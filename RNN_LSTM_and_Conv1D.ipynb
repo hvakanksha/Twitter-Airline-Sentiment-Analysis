{
  "nbformat": 4,
  "nbformat_minor": 0,
  "metadata": {
    "colab": {
      "provenance": [],
      "authorship_tag": "ABX9TyOYgvBPryAexJdghmMLuRpm",
      "include_colab_link": true
    },
    "kernelspec": {
      "name": "python3",
      "display_name": "Python 3"
    },
    "language_info": {
      "name": "python"
    }
  },
  "cells": [
    {
      "cell_type": "markdown",
      "metadata": {
        "id": "view-in-github",
        "colab_type": "text"
      },
      "source": [
        "<a href=\"https://colab.research.google.com/github/hvakanksha/Twitter-Airline-Sentiment-Analysis/blob/main/RNN_LSTM_and_Conv1D.ipynb\" target=\"_parent\"><img src=\"https://colab.research.google.com/assets/colab-badge.svg\" alt=\"Open In Colab\"/></a>"
      ]
    },
    {
      "cell_type": "markdown",
      "source": [
        "#Importing Libraries and Data"
      ],
      "metadata": {
        "id": "5LzaPslHGhc4"
      }
    },
    {
      "cell_type": "code",
      "execution_count": 1,
      "metadata": {
        "id": "u7Z0sSzMo8GT"
      },
      "outputs": [],
      "source": [
        "import numpy as np \n",
        "import pandas as pd"
      ]
    },
    {
      "cell_type": "code",
      "source": [
        "import matplotlib.pyplot as plt\n",
        "import seaborn as sns\n",
        "\n",
        "import keras\n",
        "from tensorflow.keras.utils import to_categorical\n",
        "\n",
        "import re\n",
        "from nltk.corpus import stopwords\n",
        "\n",
        "from tensorflow.keras.preprocessing.text import Tokenizer\n",
        "from tensorflow.keras.preprocessing.sequence import pad_sequences\n",
        "\n",
        "from sklearn.model_selection import train_test_split\n",
        "from sklearn.metrics import accuracy_score"
      ],
      "metadata": {
        "id": "uyUc04YLqg-j"
      },
      "execution_count": 3,
      "outputs": []
    },
    {
      "cell_type": "code",
      "source": [
        "tweets = pd.read_csv(\"Tweets.csv\")\n",
        "tweets.head(5)"
      ],
      "metadata": {
        "colab": {
          "base_uri": "https://localhost:8080/",
          "height": 495
        },
        "id": "buFrOp2YqykB",
        "outputId": "b0baa1dd-f490-43ad-a6b0-5312bbc49e77"
      },
      "execution_count": 4,
      "outputs": [
        {
          "output_type": "execute_result",
          "data": {
            "text/plain": [
              "             tweet_id airline_sentiment  airline_sentiment_confidence  \\\n",
              "0  570306133677760513           neutral                        1.0000   \n",
              "1  570301130888122368          positive                        0.3486   \n",
              "2  570301083672813571           neutral                        0.6837   \n",
              "3  570301031407624196          negative                        1.0000   \n",
              "4  570300817074462722          negative                        1.0000   \n",
              "\n",
              "  negativereason  negativereason_confidence         airline  \\\n",
              "0            NaN                        NaN  Virgin America   \n",
              "1            NaN                     0.0000  Virgin America   \n",
              "2            NaN                        NaN  Virgin America   \n",
              "3     Bad Flight                     0.7033  Virgin America   \n",
              "4     Can't Tell                     1.0000  Virgin America   \n",
              "\n",
              "  airline_sentiment_gold        name negativereason_gold  retweet_count  \\\n",
              "0                    NaN     cairdin                 NaN              0   \n",
              "1                    NaN    jnardino                 NaN              0   \n",
              "2                    NaN  yvonnalynn                 NaN              0   \n",
              "3                    NaN    jnardino                 NaN              0   \n",
              "4                    NaN    jnardino                 NaN              0   \n",
              "\n",
              "                                                text tweet_coord  \\\n",
              "0                @VirginAmerica What @dhepburn said.         NaN   \n",
              "1  @VirginAmerica plus you've added commercials t...         NaN   \n",
              "2  @VirginAmerica I didn't today... Must mean I n...         NaN   \n",
              "3  @VirginAmerica it's really aggressive to blast...         NaN   \n",
              "4  @VirginAmerica and it's a really big bad thing...         NaN   \n",
              "\n",
              "               tweet_created tweet_location               user_timezone  \n",
              "0  2015-02-24 11:35:52 -0800            NaN  Eastern Time (US & Canada)  \n",
              "1  2015-02-24 11:15:59 -0800            NaN  Pacific Time (US & Canada)  \n",
              "2  2015-02-24 11:15:48 -0800      Lets Play  Central Time (US & Canada)  \n",
              "3  2015-02-24 11:15:36 -0800            NaN  Pacific Time (US & Canada)  \n",
              "4  2015-02-24 11:14:45 -0800            NaN  Pacific Time (US & Canada)  "
            ],
            "text/html": [
              "\n",
              "  <div id=\"df-ef23147b-8278-4efa-a767-eacca6722550\">\n",
              "    <div class=\"colab-df-container\">\n",
              "      <div>\n",
              "<style scoped>\n",
              "    .dataframe tbody tr th:only-of-type {\n",
              "        vertical-align: middle;\n",
              "    }\n",
              "\n",
              "    .dataframe tbody tr th {\n",
              "        vertical-align: top;\n",
              "    }\n",
              "\n",
              "    .dataframe thead th {\n",
              "        text-align: right;\n",
              "    }\n",
              "</style>\n",
              "<table border=\"1\" class=\"dataframe\">\n",
              "  <thead>\n",
              "    <tr style=\"text-align: right;\">\n",
              "      <th></th>\n",
              "      <th>tweet_id</th>\n",
              "      <th>airline_sentiment</th>\n",
              "      <th>airline_sentiment_confidence</th>\n",
              "      <th>negativereason</th>\n",
              "      <th>negativereason_confidence</th>\n",
              "      <th>airline</th>\n",
              "      <th>airline_sentiment_gold</th>\n",
              "      <th>name</th>\n",
              "      <th>negativereason_gold</th>\n",
              "      <th>retweet_count</th>\n",
              "      <th>text</th>\n",
              "      <th>tweet_coord</th>\n",
              "      <th>tweet_created</th>\n",
              "      <th>tweet_location</th>\n",
              "      <th>user_timezone</th>\n",
              "    </tr>\n",
              "  </thead>\n",
              "  <tbody>\n",
              "    <tr>\n",
              "      <th>0</th>\n",
              "      <td>570306133677760513</td>\n",
              "      <td>neutral</td>\n",
              "      <td>1.0000</td>\n",
              "      <td>NaN</td>\n",
              "      <td>NaN</td>\n",
              "      <td>Virgin America</td>\n",
              "      <td>NaN</td>\n",
              "      <td>cairdin</td>\n",
              "      <td>NaN</td>\n",
              "      <td>0</td>\n",
              "      <td>@VirginAmerica What @dhepburn said.</td>\n",
              "      <td>NaN</td>\n",
              "      <td>2015-02-24 11:35:52 -0800</td>\n",
              "      <td>NaN</td>\n",
              "      <td>Eastern Time (US &amp; Canada)</td>\n",
              "    </tr>\n",
              "    <tr>\n",
              "      <th>1</th>\n",
              "      <td>570301130888122368</td>\n",
              "      <td>positive</td>\n",
              "      <td>0.3486</td>\n",
              "      <td>NaN</td>\n",
              "      <td>0.0000</td>\n",
              "      <td>Virgin America</td>\n",
              "      <td>NaN</td>\n",
              "      <td>jnardino</td>\n",
              "      <td>NaN</td>\n",
              "      <td>0</td>\n",
              "      <td>@VirginAmerica plus you've added commercials t...</td>\n",
              "      <td>NaN</td>\n",
              "      <td>2015-02-24 11:15:59 -0800</td>\n",
              "      <td>NaN</td>\n",
              "      <td>Pacific Time (US &amp; Canada)</td>\n",
              "    </tr>\n",
              "    <tr>\n",
              "      <th>2</th>\n",
              "      <td>570301083672813571</td>\n",
              "      <td>neutral</td>\n",
              "      <td>0.6837</td>\n",
              "      <td>NaN</td>\n",
              "      <td>NaN</td>\n",
              "      <td>Virgin America</td>\n",
              "      <td>NaN</td>\n",
              "      <td>yvonnalynn</td>\n",
              "      <td>NaN</td>\n",
              "      <td>0</td>\n",
              "      <td>@VirginAmerica I didn't today... Must mean I n...</td>\n",
              "      <td>NaN</td>\n",
              "      <td>2015-02-24 11:15:48 -0800</td>\n",
              "      <td>Lets Play</td>\n",
              "      <td>Central Time (US &amp; Canada)</td>\n",
              "    </tr>\n",
              "    <tr>\n",
              "      <th>3</th>\n",
              "      <td>570301031407624196</td>\n",
              "      <td>negative</td>\n",
              "      <td>1.0000</td>\n",
              "      <td>Bad Flight</td>\n",
              "      <td>0.7033</td>\n",
              "      <td>Virgin America</td>\n",
              "      <td>NaN</td>\n",
              "      <td>jnardino</td>\n",
              "      <td>NaN</td>\n",
              "      <td>0</td>\n",
              "      <td>@VirginAmerica it's really aggressive to blast...</td>\n",
              "      <td>NaN</td>\n",
              "      <td>2015-02-24 11:15:36 -0800</td>\n",
              "      <td>NaN</td>\n",
              "      <td>Pacific Time (US &amp; Canada)</td>\n",
              "    </tr>\n",
              "    <tr>\n",
              "      <th>4</th>\n",
              "      <td>570300817074462722</td>\n",
              "      <td>negative</td>\n",
              "      <td>1.0000</td>\n",
              "      <td>Can't Tell</td>\n",
              "      <td>1.0000</td>\n",
              "      <td>Virgin America</td>\n",
              "      <td>NaN</td>\n",
              "      <td>jnardino</td>\n",
              "      <td>NaN</td>\n",
              "      <td>0</td>\n",
              "      <td>@VirginAmerica and it's a really big bad thing...</td>\n",
              "      <td>NaN</td>\n",
              "      <td>2015-02-24 11:14:45 -0800</td>\n",
              "      <td>NaN</td>\n",
              "      <td>Pacific Time (US &amp; Canada)</td>\n",
              "    </tr>\n",
              "  </tbody>\n",
              "</table>\n",
              "</div>\n",
              "      <button class=\"colab-df-convert\" onclick=\"convertToInteractive('df-ef23147b-8278-4efa-a767-eacca6722550')\"\n",
              "              title=\"Convert this dataframe to an interactive table.\"\n",
              "              style=\"display:none;\">\n",
              "        \n",
              "  <svg xmlns=\"http://www.w3.org/2000/svg\" height=\"24px\"viewBox=\"0 0 24 24\"\n",
              "       width=\"24px\">\n",
              "    <path d=\"M0 0h24v24H0V0z\" fill=\"none\"/>\n",
              "    <path d=\"M18.56 5.44l.94 2.06.94-2.06 2.06-.94-2.06-.94-.94-2.06-.94 2.06-2.06.94zm-11 1L8.5 8.5l.94-2.06 2.06-.94-2.06-.94L8.5 2.5l-.94 2.06-2.06.94zm10 10l.94 2.06.94-2.06 2.06-.94-2.06-.94-.94-2.06-.94 2.06-2.06.94z\"/><path d=\"M17.41 7.96l-1.37-1.37c-.4-.4-.92-.59-1.43-.59-.52 0-1.04.2-1.43.59L10.3 9.45l-7.72 7.72c-.78.78-.78 2.05 0 2.83L4 21.41c.39.39.9.59 1.41.59.51 0 1.02-.2 1.41-.59l7.78-7.78 2.81-2.81c.8-.78.8-2.07 0-2.86zM5.41 20L4 18.59l7.72-7.72 1.47 1.35L5.41 20z\"/>\n",
              "  </svg>\n",
              "      </button>\n",
              "      \n",
              "  <style>\n",
              "    .colab-df-container {\n",
              "      display:flex;\n",
              "      flex-wrap:wrap;\n",
              "      gap: 12px;\n",
              "    }\n",
              "\n",
              "    .colab-df-convert {\n",
              "      background-color: #E8F0FE;\n",
              "      border: none;\n",
              "      border-radius: 50%;\n",
              "      cursor: pointer;\n",
              "      display: none;\n",
              "      fill: #1967D2;\n",
              "      height: 32px;\n",
              "      padding: 0 0 0 0;\n",
              "      width: 32px;\n",
              "    }\n",
              "\n",
              "    .colab-df-convert:hover {\n",
              "      background-color: #E2EBFA;\n",
              "      box-shadow: 0px 1px 2px rgba(60, 64, 67, 0.3), 0px 1px 3px 1px rgba(60, 64, 67, 0.15);\n",
              "      fill: #174EA6;\n",
              "    }\n",
              "\n",
              "    [theme=dark] .colab-df-convert {\n",
              "      background-color: #3B4455;\n",
              "      fill: #D2E3FC;\n",
              "    }\n",
              "\n",
              "    [theme=dark] .colab-df-convert:hover {\n",
              "      background-color: #434B5C;\n",
              "      box-shadow: 0px 1px 3px 1px rgba(0, 0, 0, 0.15);\n",
              "      filter: drop-shadow(0px 1px 2px rgba(0, 0, 0, 0.3));\n",
              "      fill: #FFFFFF;\n",
              "    }\n",
              "  </style>\n",
              "\n",
              "      <script>\n",
              "        const buttonEl =\n",
              "          document.querySelector('#df-ef23147b-8278-4efa-a767-eacca6722550 button.colab-df-convert');\n",
              "        buttonEl.style.display =\n",
              "          google.colab.kernel.accessAllowed ? 'block' : 'none';\n",
              "\n",
              "        async function convertToInteractive(key) {\n",
              "          const element = document.querySelector('#df-ef23147b-8278-4efa-a767-eacca6722550');\n",
              "          const dataTable =\n",
              "            await google.colab.kernel.invokeFunction('convertToInteractive',\n",
              "                                                     [key], {});\n",
              "          if (!dataTable) return;\n",
              "\n",
              "          const docLinkHtml = 'Like what you see? Visit the ' +\n",
              "            '<a target=\"_blank\" href=https://colab.research.google.com/notebooks/data_table.ipynb>data table notebook</a>'\n",
              "            + ' to learn more about interactive tables.';\n",
              "          element.innerHTML = '';\n",
              "          dataTable['output_type'] = 'display_data';\n",
              "          await google.colab.output.renderOutput(dataTable, element);\n",
              "          const docLink = document.createElement('div');\n",
              "          docLink.innerHTML = docLinkHtml;\n",
              "          element.appendChild(docLink);\n",
              "        }\n",
              "      </script>\n",
              "    </div>\n",
              "  </div>\n",
              "  "
            ]
          },
          "metadata": {},
          "execution_count": 4
        }
      ]
    },
    {
      "cell_type": "code",
      "source": [
        "print(tweets.columns)\n",
        "df = pd.DataFrame({\n",
        "    \"sentiment\":tweets.airline_sentiment,\n",
        "    \"text\":tweets.text\n",
        "})\n",
        "print(f\"Shape of our dataset >> {df.shape}\")\n",
        "df.head()"
      ],
      "metadata": {
        "colab": {
          "base_uri": "https://localhost:8080/",
          "height": 327
        },
        "id": "inoV7ZMGrWXd",
        "outputId": "4bab1e85-1445-45b2-c1d8-4a8f9029638b"
      },
      "execution_count": 5,
      "outputs": [
        {
          "output_type": "stream",
          "name": "stdout",
          "text": [
            "Index(['tweet_id', 'airline_sentiment', 'airline_sentiment_confidence',\n",
            "       'negativereason', 'negativereason_confidence', 'airline',\n",
            "       'airline_sentiment_gold', 'name', 'negativereason_gold',\n",
            "       'retweet_count', 'text', 'tweet_coord', 'tweet_created',\n",
            "       'tweet_location', 'user_timezone'],\n",
            "      dtype='object')\n",
            "Shape of our dataset >> (14640, 2)\n"
          ]
        },
        {
          "output_type": "execute_result",
          "data": {
            "text/plain": [
              "  sentiment                                               text\n",
              "0   neutral                @VirginAmerica What @dhepburn said.\n",
              "1  positive  @VirginAmerica plus you've added commercials t...\n",
              "2   neutral  @VirginAmerica I didn't today... Must mean I n...\n",
              "3  negative  @VirginAmerica it's really aggressive to blast...\n",
              "4  negative  @VirginAmerica and it's a really big bad thing..."
            ],
            "text/html": [
              "\n",
              "  <div id=\"df-1f98075f-3b80-4c44-9699-1d9cd3e8d58e\">\n",
              "    <div class=\"colab-df-container\">\n",
              "      <div>\n",
              "<style scoped>\n",
              "    .dataframe tbody tr th:only-of-type {\n",
              "        vertical-align: middle;\n",
              "    }\n",
              "\n",
              "    .dataframe tbody tr th {\n",
              "        vertical-align: top;\n",
              "    }\n",
              "\n",
              "    .dataframe thead th {\n",
              "        text-align: right;\n",
              "    }\n",
              "</style>\n",
              "<table border=\"1\" class=\"dataframe\">\n",
              "  <thead>\n",
              "    <tr style=\"text-align: right;\">\n",
              "      <th></th>\n",
              "      <th>sentiment</th>\n",
              "      <th>text</th>\n",
              "    </tr>\n",
              "  </thead>\n",
              "  <tbody>\n",
              "    <tr>\n",
              "      <th>0</th>\n",
              "      <td>neutral</td>\n",
              "      <td>@VirginAmerica What @dhepburn said.</td>\n",
              "    </tr>\n",
              "    <tr>\n",
              "      <th>1</th>\n",
              "      <td>positive</td>\n",
              "      <td>@VirginAmerica plus you've added commercials t...</td>\n",
              "    </tr>\n",
              "    <tr>\n",
              "      <th>2</th>\n",
              "      <td>neutral</td>\n",
              "      <td>@VirginAmerica I didn't today... Must mean I n...</td>\n",
              "    </tr>\n",
              "    <tr>\n",
              "      <th>3</th>\n",
              "      <td>negative</td>\n",
              "      <td>@VirginAmerica it's really aggressive to blast...</td>\n",
              "    </tr>\n",
              "    <tr>\n",
              "      <th>4</th>\n",
              "      <td>negative</td>\n",
              "      <td>@VirginAmerica and it's a really big bad thing...</td>\n",
              "    </tr>\n",
              "  </tbody>\n",
              "</table>\n",
              "</div>\n",
              "      <button class=\"colab-df-convert\" onclick=\"convertToInteractive('df-1f98075f-3b80-4c44-9699-1d9cd3e8d58e')\"\n",
              "              title=\"Convert this dataframe to an interactive table.\"\n",
              "              style=\"display:none;\">\n",
              "        \n",
              "  <svg xmlns=\"http://www.w3.org/2000/svg\" height=\"24px\"viewBox=\"0 0 24 24\"\n",
              "       width=\"24px\">\n",
              "    <path d=\"M0 0h24v24H0V0z\" fill=\"none\"/>\n",
              "    <path d=\"M18.56 5.44l.94 2.06.94-2.06 2.06-.94-2.06-.94-.94-2.06-.94 2.06-2.06.94zm-11 1L8.5 8.5l.94-2.06 2.06-.94-2.06-.94L8.5 2.5l-.94 2.06-2.06.94zm10 10l.94 2.06.94-2.06 2.06-.94-2.06-.94-.94-2.06-.94 2.06-2.06.94z\"/><path d=\"M17.41 7.96l-1.37-1.37c-.4-.4-.92-.59-1.43-.59-.52 0-1.04.2-1.43.59L10.3 9.45l-7.72 7.72c-.78.78-.78 2.05 0 2.83L4 21.41c.39.39.9.59 1.41.59.51 0 1.02-.2 1.41-.59l7.78-7.78 2.81-2.81c.8-.78.8-2.07 0-2.86zM5.41 20L4 18.59l7.72-7.72 1.47 1.35L5.41 20z\"/>\n",
              "  </svg>\n",
              "      </button>\n",
              "      \n",
              "  <style>\n",
              "    .colab-df-container {\n",
              "      display:flex;\n",
              "      flex-wrap:wrap;\n",
              "      gap: 12px;\n",
              "    }\n",
              "\n",
              "    .colab-df-convert {\n",
              "      background-color: #E8F0FE;\n",
              "      border: none;\n",
              "      border-radius: 50%;\n",
              "      cursor: pointer;\n",
              "      display: none;\n",
              "      fill: #1967D2;\n",
              "      height: 32px;\n",
              "      padding: 0 0 0 0;\n",
              "      width: 32px;\n",
              "    }\n",
              "\n",
              "    .colab-df-convert:hover {\n",
              "      background-color: #E2EBFA;\n",
              "      box-shadow: 0px 1px 2px rgba(60, 64, 67, 0.3), 0px 1px 3px 1px rgba(60, 64, 67, 0.15);\n",
              "      fill: #174EA6;\n",
              "    }\n",
              "\n",
              "    [theme=dark] .colab-df-convert {\n",
              "      background-color: #3B4455;\n",
              "      fill: #D2E3FC;\n",
              "    }\n",
              "\n",
              "    [theme=dark] .colab-df-convert:hover {\n",
              "      background-color: #434B5C;\n",
              "      box-shadow: 0px 1px 3px 1px rgba(0, 0, 0, 0.15);\n",
              "      filter: drop-shadow(0px 1px 2px rgba(0, 0, 0, 0.3));\n",
              "      fill: #FFFFFF;\n",
              "    }\n",
              "  </style>\n",
              "\n",
              "      <script>\n",
              "        const buttonEl =\n",
              "          document.querySelector('#df-1f98075f-3b80-4c44-9699-1d9cd3e8d58e button.colab-df-convert');\n",
              "        buttonEl.style.display =\n",
              "          google.colab.kernel.accessAllowed ? 'block' : 'none';\n",
              "\n",
              "        async function convertToInteractive(key) {\n",
              "          const element = document.querySelector('#df-1f98075f-3b80-4c44-9699-1d9cd3e8d58e');\n",
              "          const dataTable =\n",
              "            await google.colab.kernel.invokeFunction('convertToInteractive',\n",
              "                                                     [key], {});\n",
              "          if (!dataTable) return;\n",
              "\n",
              "          const docLinkHtml = 'Like what you see? Visit the ' +\n",
              "            '<a target=\"_blank\" href=https://colab.research.google.com/notebooks/data_table.ipynb>data table notebook</a>'\n",
              "            + ' to learn more about interactive tables.';\n",
              "          element.innerHTML = '';\n",
              "          dataTable['output_type'] = 'display_data';\n",
              "          await google.colab.output.renderOutput(dataTable, element);\n",
              "          const docLink = document.createElement('div');\n",
              "          docLink.innerHTML = docLinkHtml;\n",
              "          element.appendChild(docLink);\n",
              "        }\n",
              "      </script>\n",
              "    </div>\n",
              "  </div>\n",
              "  "
            ]
          },
          "metadata": {},
          "execution_count": 5
        }
      ]
    },
    {
      "cell_type": "markdown",
      "source": [
        "#Data Preprocessing and Cleaning"
      ],
      "metadata": {
        "id": "Z8vVZU3jGq5m"
      }
    },
    {
      "cell_type": "code",
      "source": [
        "df.sentiment.replace(['negative','neutral','positive'],[-1,0,1],inplace=True)\n",
        "df.sample(5)\n",
        "\n",
        "sns.set_style(\"whitegrid\")\n",
        "sns.countplot(data=df,x='sentiment')\n",
        "index = [0,1,2]\n",
        "plt.xticks(index,['negative','neutral','positive'])\n",
        "plt.title(\"Distribution of sentiment labels\")\n",
        "plt.show()"
      ],
      "metadata": {
        "colab": {
          "base_uri": "https://localhost:8080/",
          "height": 295
        },
        "id": "4wtusLjorW_p",
        "outputId": "a87c90f1-712b-4d09-d637-604c02886c38"
      },
      "execution_count": 6,
      "outputs": [
        {
          "output_type": "display_data",
          "data": {
            "text/plain": [
              "<Figure size 432x288 with 1 Axes>"
            ],
            "image/png": "[encoded data removed]"
          },
          "metadata": {}
        }
      ]
    },
    {
      "cell_type": "code",
      "source": [
        "import nltk\n",
        "nltk.download(\"stopwords\")"
      ],
      "metadata": {
        "colab": {
          "base_uri": "https://localhost:8080/"
        },
        "id": "Ll528ygzr556",
        "outputId": "475026dc-cd7a-4e33-f273-293e7a1a2746"
      },
      "execution_count": 8,
      "outputs": [
        {
          "output_type": "stream",
          "name": "stderr",
          "text": [
            "[nltk_data] Downloading package stopwords to /root/nltk_data...\n",
            "[nltk_data]   Unzipping corpora/stopwords.zip.\n"
          ]
        },
        {
          "output_type": "execute_result",
          "data": {
            "text/plain": [
              "True"
            ]
          },
          "metadata": {},
          "execution_count": 8
        }
      ]
    },
    {
      "cell_type": "code",
      "source": [
        "stop_words = set(stopwords.words('english'))\n",
        "\n",
        "shortword = re.compile(r\"\\b\\w{1,2}\\b\")\n",
        "url = re.compile(r\"https?:*/+[a-zA-Z0-9./]*\")\n",
        "\n",
        "def clean(text):\n",
        "    text = re.sub(url,'',text)\n",
        "    text = re.sub(shortword,'',text)\n",
        "    text = text.replace('@','')\n",
        "    text = text.replace('#','')\n",
        "    \n",
        "    text = text.split()\n",
        "    text = [word for word in text if word not in stop_words]\n",
        "    text = \" \".join(text)\n",
        "    \n",
        "    return text\n",
        "\n",
        "df.text = df.text.apply(clean)\n",
        "df.text[:15]"
      ],
      "metadata": {
        "colab": {
          "base_uri": "https://localhost:8080/"
        },
        "id": "_xJvB987ra9Z",
        "outputId": "9d4e0c4f-e287-4a9d-8cd1-bb8abd126c13"
      },
      "execution_count": 9,
      "outputs": [
        {
          "output_type": "execute_result",
          "data": {
            "text/plain": [
              "0                     VirginAmerica What dhepburn said.\n",
              "1     VirginAmerica plus you' added commercials expe...\n",
              "2     VirginAmerica didn' today... Must mean need ta...\n",
              "3     VirginAmerica ' really aggressive blast obnoxi...\n",
              "4                  VirginAmerica ' really big bad thing\n",
              "5     VirginAmerica seriously would pay $ flight sea...\n",
              "6     VirginAmerica yes, nearly every time fly “ear ...\n",
              "7     VirginAmerica Really missed prime opportunity ...\n",
              "8                virginamerica Well, didn'…but NOW ! :-\n",
              "9     VirginAmerica amazing, arrived hour early. You...\n",
              "10    VirginAmerica know suicide second leading caus...\n",
              "11    VirginAmerica &; pretty graphics. much better ...\n",
              "12    VirginAmerica This great deal! Already thinkin...\n",
              "13    VirginAmerica virginmedia ' flying fabulous Se...\n",
              "14                                VirginAmerica Thanks!\n",
              "Name: text, dtype: object"
            ]
          },
          "metadata": {},
          "execution_count": 9
        }
      ]
    },
    {
      "cell_type": "code",
      "source": [
        "tokenizer = Tokenizer()\n",
        "tokenizer.fit_on_texts(df.text)\n",
        "print(f\"{len(tokenizer.word_index)} words are used\\n\")\n",
        "\n",
        "counts = tokenizer.word_counts\n",
        "print(len(counts))\n",
        "\n",
        "total_freq = 0\n",
        "rare_freq = 0\n",
        "rare_counts = 0\n",
        "thread=2\n",
        "\n",
        "for key,value in counts.items():\n",
        "    total_freq += value\n",
        "    if value<thread:\n",
        "        rare_freq += value\n",
        "        rare_counts += value\n",
        "\n",
        "print(f\"{rare_counts} are used less than {thread} times\")\n",
        "print(f\"And these words accounts for {np.round(rare_freq/total_freq*100,2)}% of whole texts\")"
      ],
      "metadata": {
        "colab": {
          "base_uri": "https://localhost:8080/"
        },
        "id": "hM4_Zo3qr1Xp",
        "outputId": "1218608b-19ee-49d6-cfbc-483b8a28763b"
      },
      "execution_count": 10,
      "outputs": [
        {
          "output_type": "stream",
          "name": "stdout",
          "text": [
            "14088 words are used\n",
            "\n",
            "14088\n",
            "7772 are used less than 2 times\n",
            "And these words accounts for 5.04% of whole texts\n"
          ]
        }
      ]
    },
    {
      "cell_type": "code",
      "source": [
        "print(\"Tokenize only 7000 words.\\nOther words are considered OOV\")\n",
        "word_size=7000\n",
        "vocab_size = word_size+1\n",
        "tokenizer = Tokenizer(num_words=word_size)\n",
        "\n",
        "tokenizer.fit_on_texts(df.text)\n",
        "tokenized = tokenizer.texts_to_sequences(df.text)\n",
        "\n",
        "print(\"\\nSamples\\n\")\n",
        "print(tokenized[0])\n",
        "print(tokenized[1])\n",
        "print(len(tokenized))"
      ],
      "metadata": {
        "colab": {
          "base_uri": "https://localhost:8080/"
        },
        "id": "WT7NkykvsRqh",
        "outputId": "fb212ff7-8ae0-41d5-8ea1-511a04d648b1"
      },
      "execution_count": 11,
      "outputs": [
        {
          "output_type": "stream",
          "name": "stdout",
          "text": [
            "Tokenize only 7000 words.\n",
            "Other words are considered OOV\n",
            "\n",
            "Samples\n",
            "\n",
            "[30, 106, 6317, 143]\n",
            "[30, 450, 85, 1022, 2339, 120, 6318]\n",
            "14640\n"
          ]
        }
      ]
    },
    {
      "cell_type": "code",
      "source": [
        "lengths = [len(s) for s in tokenized]\n",
        "print(f\"Average length of each row >> {np.mean(lengths)}\")\n",
        "print(f\"Maximum length of each row >> {np.max(lengths)}\")\n",
        "\n",
        "plt.hist(lengths,bins=50)\n",
        "plt.show()\n",
        "\n",
        "sequence_size = 20\n",
        "print(f\"Pad all sequences into size of {sequence_size}\")\n",
        "\n",
        "padded = pad_sequences(tokenized,maxlen=sequence_size,padding='post',truncating='post')\n",
        "print(padded.shape)\n",
        "print(\"Padded samples\")\n",
        "print(padded[0])\n",
        "print(padded[1])"
      ],
      "metadata": {
        "colab": {
          "base_uri": "https://localhost:8080/",
          "height": 421
        },
        "id": "nX5xSNInsWPx",
        "outputId": "d5926b6e-ed0f-4e14-c3fc-03840e72ed6b"
      },
      "execution_count": 12,
      "outputs": [
        {
          "output_type": "stream",
          "name": "stdout",
          "text": [
            "Average length of each row >> 10.0448087431694\n",
            "Maximum length of each row >> 22\n"
          ]
        },
        {
          "output_type": "display_data",
          "data": {
            "text/plain": [
              "<Figure size 432x288 with 1 Axes>"
            ],
            "image/png": "[encoded data removed]"
          },
          "metadata": {}
        },
        {
          "output_type": "stream",
          "name": "stdout",
          "text": [
            "Pad all sequences into size of 20\n",
            "(14640, 20)\n",
            "Padded samples\n",
            "[  30  106 6317  143    0    0    0    0    0    0    0    0    0    0\n",
            "    0    0    0    0    0    0]\n",
            "[  30  450   85 1022 2339  120 6318    0    0    0    0    0    0    0\n",
            "    0    0    0    0    0    0]\n"
          ]
        }
      ]
    },
    {
      "cell_type": "code",
      "source": [
        "data = padded\n",
        "label = to_categorical(df.sentiment,num_classes=3)\n",
        "\n",
        "print(\"shape of data >>\",data.shape)\n",
        "print(\"shape of label >>\",label.shape)\n",
        "\n",
        "print(\"\\nSamples of label data\")\n",
        "print(label[0])\n",
        "print(label[1])"
      ],
      "metadata": {
        "colab": {
          "base_uri": "https://localhost:8080/"
        },
        "id": "foRKEbgRsbRh",
        "outputId": "dd3da171-529d-444c-96d9-4282e233d3c0"
      },
      "execution_count": 13,
      "outputs": [
        {
          "output_type": "stream",
          "name": "stdout",
          "text": [
            "shape of data >> (14640, 20)\n",
            "shape of label >> (14640, 3)\n",
            "\n",
            "Samples of label data\n",
            "[1. 0. 0.]\n",
            "[0. 1. 0.]\n"
          ]
        }
      ]
    },
    {
      "cell_type": "markdown",
      "source": [
        "#Train:Test=70:30"
      ],
      "metadata": {
        "id": "punnTJg8s0t2"
      }
    },
    {
      "cell_type": "code",
      "source": [
        "train_data,test_data,train_label,test_label = train_test_split(data,label,test_size=0.3,stratify=label,random_state=42)\n",
        "\n",
        "print(\"shape of train data >>\",train_data.shape)\n",
        "print(\"shape of test data >>\",test_data.shape)\n",
        "\n",
        "fig = plt.figure(figsize=(12,6))\n",
        "ax1 = fig.add_subplot(1,2,1)\n",
        "sns.countplot(x=np.argmax(train_label,axis=1))\n",
        "plt.title(\"Distribution of train label\")\n",
        "\n",
        "ax2 = fig.add_subplot(1,2,2)\n",
        "sns.countplot(x=np.argmax(test_label,axis=1))\n",
        "plt.title(\"Distribution of test label\")\n",
        "plt.show()\n",
        "\n",
        "index_to_sentiment = {\n",
        "    0:'neutral',\n",
        "    1:'positive',\n",
        "    -1:'negative'\n",
        "}"
      ],
      "metadata": {
        "colab": {
          "base_uri": "https://localhost:8080/",
          "height": 425
        },
        "id": "ckp3lzLvssex",
        "outputId": "7cc785ce-d563-4de4-c6a4-4f9a27ce15cb"
      },
      "execution_count": 14,
      "outputs": [
        {
          "output_type": "stream",
          "name": "stdout",
          "text": [
            "shape of train data >> (10248, 20)\n",
            "shape of test data >> (4392, 20)\n"
          ]
        },
        {
          "output_type": "display_data",
          "data": {
            "text/plain": [
              "<Figure size 864x432 with 2 Axes>"
            ],
            "image/png": "[encoded data removed]"
          },
          "metadata": {}
        }
      ]
    },
    {
      "cell_type": "markdown",
      "source": [
        "\n",
        "##LSTM using pre trained embedding vectors"
      ],
      "metadata": {
        "id": "Rsr78V2ytFVm"
      }
    },
    {
      "cell_type": "code",
      "source": [
        "import os\n",
        "\n",
        "!wget http://nlp.stanford.edu/data/glove.6B.zip\n",
        "!unzip glove*.zip"
      ],
      "metadata": {
        "colab": {
          "base_uri": "https://localhost:8080/"
        },
        "id": "ITbIUtGLs9f5",
        "outputId": "17c3dcf4-77c6-49dc-f2d4-42b3ee8fa81a"
      },
      "execution_count": 15,
      "outputs": [
        {
          "output_type": "stream",
          "name": "stdout",
          "text": [
            "--2023-03-20 15:48:04--  http://nlp.stanford.edu/data/glove.6B.zip\n",
            "Resolving nlp.stanford.edu (nlp.stanford.edu)... 171.64.67.140\n",
            "Connecting to nlp.stanford.edu (nlp.stanford.edu)|171.64.67.140|:80... connected.\n",
            "HTTP request sent, awaiting response... 302 Found\n",
            "Location: https://nlp.stanford.edu/data/glove.6B.zip [following]\n",
            "--2023-03-20 15:48:04--  https://nlp.stanford.edu/data/glove.6B.zip\n",
            "Connecting to nlp.stanford.edu (nlp.stanford.edu)|171.64.67.140|:443... connected.\n",
            "HTTP request sent, awaiting response... 301 Moved Permanently\n",
            "Location: https://downloads.cs.stanford.edu/nlp/data/glove.6B.zip [following]\n",
            "--2023-03-20 15:48:04--  https://downloads.cs.stanford.edu/nlp/data/glove.6B.zip\n",
            "Resolving downloads.cs.stanford.edu (downloads.cs.stanford.edu)... 171.64.64.22\n",
            "Connecting to downloads.cs.stanford.edu (downloads.cs.stanford.edu)|171.64.64.22|:443... connected.\n",
            "HTTP request sent, awaiting response... 200 OK\n",
            "Length: 862182613 (822M) [application/zip]\n",
            "Saving to: ‘glove.6B.zip’\n",
            "\n",
            "glove.6B.zip        100%[===================>] 822.24M  5.03MB/s    in 2m 40s  \n",
            "\n",
            "2023-03-20 15:50:45 (5.14 MB/s) - ‘glove.6B.zip’ saved [862182613/862182613]\n",
            "\n",
            "Archive:  glove.6B.zip\n",
            "  inflating: glove.6B.50d.txt        \n",
            "  inflating: glove.6B.100d.txt       \n",
            "  inflating: glove.6B.200d.txt       \n",
            "  inflating: glove.6B.300d.txt       \n"
          ]
        }
      ]
    },
    {
      "cell_type": "code",
      "source": [
        "embedding_dict=dict()\n",
        "\n",
        "f = open(os.path.join('glove.6B.100d.txt'),encoding='utf-8')\n",
        "for line in f:\n",
        "    tokens = line.split()\n",
        "    word = tokens[0]\n",
        "    word_vector = np.asarray(tokens[1:],dtype='float32')\n",
        "    embedding_dict[word] = word_vector\n",
        "\n",
        "f.close()\n",
        "\n",
        "print(f\"There are {len(embedding_dict)} embedding vectors in total\")\n",
        "print(f\"Dimension of each vector >> {len(embedding_dict['read'])}\")\n",
        "embedding_size = len(embedding_dict['read'])\n",
        "\n",
        "\n",
        "embedding_matrix = np.zeros((vocab_size,embedding_size))\n",
        "\n",
        "for word,idx in tokenizer.word_index.items():\n",
        "    if idx <= 7000:\n",
        "        vector = embedding_dict.get(word)\n",
        "        if vector is not None:\n",
        "            embedding_matrix[idx] = np.asarray(vector,dtype='float32')"
      ],
      "metadata": {
        "colab": {
          "base_uri": "https://localhost:8080/"
        },
        "id": "Ect2YJ48tOV5",
        "outputId": "88f40d5d-0af5-4d22-c8b5-f05b5249d650"
      },
      "execution_count": 16,
      "outputs": [
        {
          "output_type": "stream",
          "name": "stdout",
          "text": [
            "There are 400000 embedding vectors in total\n",
            "Dimension of each vector >> 100\n"
          ]
        }
      ]
    },
    {
      "cell_type": "markdown",
      "source": [
        "Build Stacked LSTM model (+ bidirectional, many-to-many)"
      ],
      "metadata": {
        "id": "F4HZGMV8uZ1u"
      }
    },
    {
      "cell_type": "code",
      "source": [
        "from keras.layers import Input,Embedding,TimeDistributed,Bidirectional,LSTM,BatchNormalization,Dense,GlobalMaxPool1D,GlobalAveragePooling1D,Dropout,Masking\n",
        "from keras.callbacks import EarlyStopping,ReduceLROnPlateau\n",
        "from keras.utils import plot_model\n",
        "\n",
        "word_vec_size=100\n",
        "hidden_size=128\n",
        "\n",
        "def create_lstm():\n",
        "    X = Input(shape=[sequence_size])\n",
        "    H = Embedding(vocab_size,word_vec_size,input_length=sequence_size,weights=[embedding_matrix],trainable=False)(X)\n",
        "    H = Masking(mask_value=0.0)(H)\n",
        "    \n",
        "    H = Bidirectional(LSTM(hidden_size,return_sequences=True))(H)\n",
        "    H = Bidirectional(LSTM(int(hidden_size/2),return_sequences=True))(H)\n",
        "    H = Bidirectional(LSTM(int(hidden_size/2),return_sequences=True))(H)\n",
        "    \n",
        "    H = GlobalMaxPool1D()(H)\n",
        "    H = BatchNormalization()(H)\n",
        "    H = Dense(32,activation='relu')(H)\n",
        "    H = BatchNormalization()(H)\n",
        "    Y = Dense(3,activation='softmax')(H)\n",
        "    \n",
        "    model = keras.models.Model(X,Y)\n",
        "    model.compile(loss='categorical_crossentropy',optimizer='adam',metrics=['accuracy'])\n",
        "    return model\n",
        "\n",
        "es = EarlyStopping(monitor='val_accuracy',mode='min',patience=4,verbose=1)\n",
        "rl = ReduceLROnPlateau(monitor='val_loss',mode='min',patience=3,verbose=1)"
      ],
      "metadata": {
        "id": "ML1FKeSXuMtS"
      },
      "execution_count": 17,
      "outputs": []
    },
    {
      "cell_type": "code",
      "source": [
        "lstm_model = create_lstm()\n",
        "plot_model(lstm_model)\n",
        "lstm_history = lstm_model.fit(train_data,train_label,epochs=10,batch_size=64,validation_split=0.2,callbacks=[rl])\n",
        "lstm_model.evaluate(test_data,test_label)"
      ],
      "metadata": {
        "colab": {
          "base_uri": "https://localhost:8080/"
        },
        "id": "b2pa18gdueQp",
        "outputId": "4c8f943b-60dc-4f98-c79e-79810c68cdf3"
      },
      "execution_count": 18,
      "outputs": [
        {
          "output_type": "stream",
          "name": "stdout",
          "text": [
            "Epoch 1/10\n",
            "129/129 [==============================] - 68s 324ms/step - loss: 0.8042 - accuracy: 0.6655 - val_loss: 0.8354 - val_accuracy: 0.6595 - lr: 0.0010\n",
            "Epoch 2/10\n",
            "129/129 [==============================] - 33s 254ms/step - loss: 0.6082 - accuracy: 0.7538 - val_loss: 0.7599 - val_accuracy: 0.7029 - lr: 0.0010\n",
            "Epoch 3/10\n",
            "129/129 [==============================] - 36s 278ms/step - loss: 0.5475 - accuracy: 0.7774 - val_loss: 0.7288 - val_accuracy: 0.7205 - lr: 0.0010\n",
            "Epoch 4/10\n",
            "129/129 [==============================] - 35s 269ms/step - loss: 0.5200 - accuracy: 0.7895 - val_loss: 0.7650 - val_accuracy: 0.6561 - lr: 0.0010\n",
            "Epoch 5/10\n",
            "129/129 [==============================] - 32s 250ms/step - loss: 0.4835 - accuracy: 0.8014 - val_loss: 0.6461 - val_accuracy: 0.7390 - lr: 0.0010\n",
            "Epoch 6/10\n",
            "129/129 [==============================] - 33s 260ms/step - loss: 0.4552 - accuracy: 0.8187 - val_loss: 0.6290 - val_accuracy: 0.7541 - lr: 0.0010\n",
            "Epoch 7/10\n",
            "129/129 [==============================] - 35s 274ms/step - loss: 0.4243 - accuracy: 0.8279 - val_loss: 0.6729 - val_accuracy: 0.7415 - lr: 0.0010\n",
            "Epoch 8/10\n",
            "129/129 [==============================] - 33s 254ms/step - loss: 0.3747 - accuracy: 0.8492 - val_loss: 0.6850 - val_accuracy: 0.7522 - lr: 0.0010\n",
            "Epoch 9/10\n",
            "129/129 [==============================] - ETA: 0s - loss: 0.3467 - accuracy: 0.8601\n",
            "Epoch 9: ReduceLROnPlateau reducing learning rate to 0.00010000000474974513.\n",
            "129/129 [==============================] - 34s 262ms/step - loss: 0.3467 - accuracy: 0.8601 - val_loss: 0.6688 - val_accuracy: 0.7288 - lr: 0.0010\n",
            "Epoch 10/10\n",
            "129/129 [==============================] - 36s 277ms/step - loss: 0.2527 - accuracy: 0.9075 - val_loss: 0.6348 - val_accuracy: 0.7654 - lr: 1.0000e-04\n",
            "138/138 [==============================] - 6s 46ms/step - loss: 0.6392 - accuracy: 0.7650\n"
          ]
        },
        {
          "output_type": "execute_result",
          "data": {
            "text/plain": [
              "[0.6392237544059753, 0.7650273442268372]"
            ]
          },
          "metadata": {},
          "execution_count": 18
        }
      ]
    },
    {
      "cell_type": "markdown",
      "source": [
        "##LSTM model without using pre-trained embedding vectors"
      ],
      "metadata": {
        "id": "6eqtFYVqwXd3"
      }
    },
    {
      "cell_type": "code",
      "source": [
        "word_vec_size=100\n",
        "hidden_size=256\n",
        "\n",
        "def create_lstm_no_emb():\n",
        "    X = Input(shape=[sequence_size])\n",
        "    H = Embedding(vocab_size,word_vec_size,input_length=sequence_size)(X)\n",
        "    H = Masking(mask_value=0.0)(H)\n",
        "    \n",
        "    H = Bidirectional(LSTM(hidden_size,return_sequences=True))(H)\n",
        "    H = BatchNormalization()(H)\n",
        "    H = Bidirectional(LSTM(int(hidden_size/2),return_sequences=True))(H)\n",
        "    H = BatchNormalization()(H)\n",
        "    H = Bidirectional(LSTM(int(hidden_size/2),return_sequences=True))(H)\n",
        "    \n",
        "    H = GlobalMaxPool1D()(H)\n",
        "    H = Dense(64,activation='relu')(H)\n",
        "    H = Dense(32,activation='relu')(H)\n",
        "    H = Dropout(0.2)(H)\n",
        "    Y = Dense(3,activation='softmax')(H)\n",
        "    \n",
        "    model = keras.models.Model(X,Y)\n",
        "    model.compile(loss='categorical_crossentropy',optimizer='adam',metrics=['accuracy'])\n",
        "    return model"
      ],
      "metadata": {
        "id": "Z5LcZWNouipJ"
      },
      "execution_count": 19,
      "outputs": []
    },
    {
      "cell_type": "code",
      "source": [
        "lstm_no = create_lstm_no_emb()\n",
        "plot_model(lstm_no)\n",
        "lstm_no_hist = lstm_model.fit(train_data,train_label,epochs=15,batch_size=64,validation_split=0.2,callbacks=[rl])\n",
        "lstm_no.evaluate(test_data,test_label)"
      ],
      "metadata": {
        "colab": {
          "base_uri": "https://localhost:8080/"
        },
        "id": "Nm-t_Bw3wZ35",
        "outputId": "7cf73d93-5daa-47bc-88b9-6388f1b83c66"
      },
      "execution_count": 20,
      "outputs": [
        {
          "output_type": "stream",
          "name": "stdout",
          "text": [
            "Epoch 1/15\n",
            "129/129 [==============================] - 38s 290ms/step - loss: 0.2226 - accuracy: 0.9236 - val_loss: 0.6425 - val_accuracy: 0.7702 - lr: 1.0000e-04\n",
            "Epoch 2/15\n",
            "129/129 [==============================] - 34s 266ms/step - loss: 0.2098 - accuracy: 0.9263 - val_loss: 0.6425 - val_accuracy: 0.7702 - lr: 1.0000e-04\n",
            "Epoch 3/15\n",
            "129/129 [==============================] - 37s 289ms/step - loss: 0.1914 - accuracy: 0.9366 - val_loss: 0.6605 - val_accuracy: 0.7620 - lr: 1.0000e-04\n",
            "Epoch 4/15\n",
            "129/129 [==============================] - ETA: 0s - loss: 0.1803 - accuracy: 0.9382\n",
            "Epoch 4: ReduceLROnPlateau reducing learning rate to 1.0000000474974514e-05.\n",
            "129/129 [==============================] - 36s 277ms/step - loss: 0.1803 - accuracy: 0.9382 - val_loss: 0.6817 - val_accuracy: 0.7580 - lr: 1.0000e-04\n",
            "Epoch 5/15\n",
            "129/129 [==============================] - 33s 257ms/step - loss: 0.1645 - accuracy: 0.9466 - val_loss: 0.6791 - val_accuracy: 0.7678 - lr: 1.0000e-05\n",
            "Epoch 6/15\n",
            "129/129 [==============================] - 38s 292ms/step - loss: 0.1642 - accuracy: 0.9483 - val_loss: 0.6795 - val_accuracy: 0.7683 - lr: 1.0000e-05\n",
            "Epoch 7/15\n",
            "129/129 [==============================] - ETA: 0s - loss: 0.1657 - accuracy: 0.9456\n",
            "Epoch 7: ReduceLROnPlateau reducing learning rate to 1.0000000656873453e-06.\n",
            "129/129 [==============================] - 35s 270ms/step - loss: 0.1657 - accuracy: 0.9456 - val_loss: 0.6816 - val_accuracy: 0.7698 - lr: 1.0000e-05\n",
            "Epoch 8/15\n",
            "129/129 [==============================] - 35s 270ms/step - loss: 0.1625 - accuracy: 0.9475 - val_loss: 0.6813 - val_accuracy: 0.7693 - lr: 1.0000e-06\n",
            "Epoch 9/15\n",
            "129/129 [==============================] - 34s 261ms/step - loss: 0.1579 - accuracy: 0.9508 - val_loss: 0.6809 - val_accuracy: 0.7693 - lr: 1.0000e-06\n",
            "Epoch 10/15\n",
            "129/129 [==============================] - ETA: 0s - loss: 0.1603 - accuracy: 0.9491\n",
            "Epoch 10: ReduceLROnPlateau reducing learning rate to 1.0000001111620805e-07.\n",
            "129/129 [==============================] - 34s 263ms/step - loss: 0.1603 - accuracy: 0.9491 - val_loss: 0.6816 - val_accuracy: 0.7698 - lr: 1.0000e-06\n",
            "Epoch 11/15\n",
            "129/129 [==============================] - 35s 268ms/step - loss: 0.1625 - accuracy: 0.9473 - val_loss: 0.6816 - val_accuracy: 0.7688 - lr: 1.0000e-07\n",
            "Epoch 12/15\n",
            "129/129 [==============================] - 36s 280ms/step - loss: 0.1589 - accuracy: 0.9504 - val_loss: 0.6812 - val_accuracy: 0.7693 - lr: 1.0000e-07\n",
            "Epoch 13/15\n",
            "129/129 [==============================] - ETA: 0s - loss: 0.1635 - accuracy: 0.9491\n",
            "Epoch 13: ReduceLROnPlateau reducing learning rate to 1.000000082740371e-08.\n",
            "129/129 [==============================] - 34s 262ms/step - loss: 0.1635 - accuracy: 0.9491 - val_loss: 0.6814 - val_accuracy: 0.7698 - lr: 1.0000e-07\n",
            "Epoch 14/15\n",
            "129/129 [==============================] - 35s 271ms/step - loss: 0.1616 - accuracy: 0.9490 - val_loss: 0.6815 - val_accuracy: 0.7702 - lr: 1.0000e-08\n",
            "Epoch 15/15\n",
            "129/129 [==============================] - 35s 272ms/step - loss: 0.1619 - accuracy: 0.9469 - val_loss: 0.6822 - val_accuracy: 0.7702 - lr: 1.0000e-08\n",
            "138/138 [==============================] - 32s 126ms/step - loss: 1.0976 - accuracy: 0.3541\n"
          ]
        },
        {
          "output_type": "execute_result",
          "data": {
            "text/plain": [
              "[1.0976312160491943, 0.3540528118610382]"
            ]
          },
          "metadata": {},
          "execution_count": 20
        }
      ]
    },
    {
      "cell_type": "markdown",
      "source": [
        "##Conv1D model using pre-trained Embedding Vectors"
      ],
      "metadata": {
        "id": "PwTyQY1Y0NTi"
      }
    },
    {
      "cell_type": "code",
      "source": [
        "from keras.layers import Conv1D,Concatenate,LeakyReLU,Flatten\n",
        "\n",
        "def create_conv1d():\n",
        "    X = Input(shape=[sequence_size])\n",
        "    H = Embedding(vocab_size,word_vec_size,input_length=sequence_size,weights=[embedding_matrix],trainable=False,mask_zero=True)(X)\n",
        "    H = Dropout(0.3)(H)\n",
        "    \n",
        "    num_filters=[256,256,128,128]\n",
        "    kernel_sizes=[3,4,5,6]\n",
        "    conv_blocks=[]\n",
        "    \n",
        "    for i in range(len(kernel_sizes)):\n",
        "        conv = Conv1D(filters=num_filters[i],kernel_size=kernel_sizes[i],padding='valid',activation='relu')(H)\n",
        "        conv = GlobalMaxPool1D()(conv)\n",
        "        conv = Flatten()(conv)\n",
        "        conv_blocks.append(conv)\n",
        "    \n",
        "    H = Concatenate()(conv_blocks)\n",
        "    H = Dropout(0.2)(H)\n",
        "    \n",
        "    H = Dense(128)(H)\n",
        "    H = BatchNormalization()(H)\n",
        "    H = LeakyReLU()(H)\n",
        "    \n",
        "    H = Dense(16)(H)\n",
        "    H = BatchNormalization()(H)\n",
        "    H = LeakyReLU()(H)\n",
        "    \n",
        "    Y = Dense(3,activation='softmax')(H)\n",
        "    \n",
        "    model = keras.models.Model(X,Y)\n",
        "    model.compile(loss='categorical_crossentropy',optimizer='adam',metrics=['accuracy'])\n",
        "    return model"
      ],
      "metadata": {
        "id": "0RvySWNTwdyQ"
      },
      "execution_count": 21,
      "outputs": []
    },
    {
      "cell_type": "code",
      "source": [
        "conv1d = create_conv1d()\n",
        "plot_model(conv1d)\n",
        "hist = conv1d.fit(train_data,train_label,epochs=10,validation_split=0.2,batch_size=64,callbacks=[rl])\n",
        "conv1d.evaluate(test_data,test_label)"
      ],
      "metadata": {
        "colab": {
          "base_uri": "https://localhost:8080/"
        },
        "id": "SBAT2If60UHI",
        "outputId": "e1aab84f-bb11-4215-f31d-e9d3e267ed40"
      },
      "execution_count": 22,
      "outputs": [
        {
          "output_type": "stream",
          "name": "stdout",
          "text": [
            "Epoch 1/10\n",
            "129/129 [==============================] - 10s 58ms/step - loss: 0.7869 - accuracy: 0.6654 - val_loss: 0.6439 - val_accuracy: 0.7439 - lr: 0.0010\n",
            "Epoch 2/10\n",
            "129/129 [==============================] - 6s 44ms/step - loss: 0.6200 - accuracy: 0.7458 - val_loss: 0.5910 - val_accuracy: 0.7576 - lr: 0.0010\n",
            "Epoch 3/10\n",
            "129/129 [==============================] - 7s 56ms/step - loss: 0.5630 - accuracy: 0.7667 - val_loss: 0.5756 - val_accuracy: 0.7615 - lr: 0.0010\n",
            "Epoch 4/10\n",
            "129/129 [==============================] - 6s 46ms/step - loss: 0.5176 - accuracy: 0.7880 - val_loss: 0.5700 - val_accuracy: 0.7659 - lr: 0.0010\n",
            "Epoch 5/10\n",
            "129/129 [==============================] - 7s 56ms/step - loss: 0.4880 - accuracy: 0.7986 - val_loss: 0.5873 - val_accuracy: 0.7649 - lr: 0.0010\n",
            "Epoch 6/10\n",
            "129/129 [==============================] - 6s 46ms/step - loss: 0.4438 - accuracy: 0.8226 - val_loss: 0.6083 - val_accuracy: 0.7380 - lr: 0.0010\n",
            "Epoch 7/10\n",
            "128/129 [============================>.] - ETA: 0s - loss: 0.4134 - accuracy: 0.8364\n",
            "Epoch 7: ReduceLROnPlateau reducing learning rate to 0.00010000000474974513.\n",
            "129/129 [==============================] - 7s 55ms/step - loss: 0.4135 - accuracy: 0.8363 - val_loss: 0.5757 - val_accuracy: 0.7810 - lr: 0.0010\n",
            "Epoch 8/10\n",
            "129/129 [==============================] - 6s 46ms/step - loss: 0.3597 - accuracy: 0.8589 - val_loss: 0.5710 - val_accuracy: 0.7668 - lr: 1.0000e-04\n",
            "Epoch 9/10\n",
            "129/129 [==============================] - 7s 54ms/step - loss: 0.3381 - accuracy: 0.8713 - val_loss: 0.5703 - val_accuracy: 0.7673 - lr: 1.0000e-04\n",
            "Epoch 10/10\n",
            "129/129 [==============================] - 6s 45ms/step - loss: 0.3283 - accuracy: 0.8724 - val_loss: 0.5696 - val_accuracy: 0.7746 - lr: 1.0000e-04\n",
            "138/138 [==============================] - 1s 9ms/step - loss: 0.5808 - accuracy: 0.7664\n"
          ]
        },
        {
          "output_type": "execute_result",
          "data": {
            "text/plain": [
              "[0.5807927846908569, 0.7663934230804443]"
            ]
          },
          "metadata": {},
          "execution_count": 22
        }
      ]
    },
    {
      "cell_type": "markdown",
      "source": [
        "#Train:Test=80:20"
      ],
      "metadata": {
        "id": "vgcT0hxf06Hc"
      }
    },
    {
      "cell_type": "code",
      "source": [
        "train_data,test_data,train_label,test_label = train_test_split(data,label,test_size=0.2,stratify=label,random_state=42)\n",
        "\n",
        "print(\"shape of train data >>\",train_data.shape)\n",
        "print(\"shape of test data >>\",test_data.shape)\n",
        "\n",
        "fig = plt.figure(figsize=(12,6))\n",
        "ax1 = fig.add_subplot(1,2,1)\n",
        "sns.countplot(x=np.argmax(train_label,axis=1))\n",
        "plt.title(\"Distribution of train label\")\n",
        "\n",
        "ax2 = fig.add_subplot(1,2,2)\n",
        "sns.countplot(x=np.argmax(test_label,axis=1))\n",
        "plt.title(\"Distribution of test label\")\n",
        "plt.show()\n",
        "\n",
        "index_to_sentiment = {\n",
        "    0:'neutral',\n",
        "    1:'positive',\n",
        "    -1:'negative'\n",
        "}"
      ],
      "metadata": {
        "colab": {
          "base_uri": "https://localhost:8080/",
          "height": 425
        },
        "id": "8moJGqKQ0ZeY",
        "outputId": "0cd87f92-79c2-4aca-b59e-ab852da9a888"
      },
      "execution_count": 23,
      "outputs": [
        {
          "output_type": "stream",
          "name": "stdout",
          "text": [
            "shape of train data >> (11712, 20)\n",
            "shape of test data >> (2928, 20)\n"
          ]
        },
        {
          "output_type": "display_data",
          "data": {
            "text/plain": [
              "<Figure size 864x432 with 2 Axes>"
            ],
            "image/png": "[encoded data removed]"
          },
          "metadata": {}
        }
      ]
    },
    {
      "cell_type": "markdown",
      "source": [
        "##LSTM model using pre-trained embedding vectors"
      ],
      "metadata": {
        "id": "EJlsl3tT1ZOW"
      }
    },
    {
      "cell_type": "code",
      "source": [
        "embedding_dict=dict()\n",
        "\n",
        "f = open(os.path.join('glove.6B.100d.txt'),encoding='utf-8')\n",
        "for line in f:\n",
        "    tokens = line.split()\n",
        "    word = tokens[0]\n",
        "    word_vector = np.asarray(tokens[1:],dtype='float32')\n",
        "    embedding_dict[word] = word_vector\n",
        "\n",
        "f.close()\n",
        "\n",
        "print(f\"There are {len(embedding_dict)} embedding vectors in total\")\n",
        "print(f\"Dimension of each vector >> {len(embedding_dict['read'])}\")\n",
        "embedding_size = len(embedding_dict['read'])\n",
        "\n",
        "\n",
        "embedding_matrix = np.zeros((vocab_size,embedding_size))\n",
        "\n",
        "for word,idx in tokenizer.word_index.items():\n",
        "    if idx <= 7000:\n",
        "        vector = embedding_dict.get(word)\n",
        "        if vector is not None:\n",
        "            embedding_matrix[idx] = np.asarray(vector,dtype='float32')"
      ],
      "metadata": {
        "colab": {
          "base_uri": "https://localhost:8080/"
        },
        "id": "2cugYMTa1RtY",
        "outputId": "70db8ef1-ab12-4ecc-abe6-de42b4c7ee39"
      },
      "execution_count": 24,
      "outputs": [
        {
          "output_type": "stream",
          "name": "stdout",
          "text": [
            "There are 400000 embedding vectors in total\n",
            "Dimension of each vector >> 100\n"
          ]
        }
      ]
    },
    {
      "cell_type": "code",
      "source": [
        "from keras.layers import Input,Embedding,TimeDistributed,Bidirectional,LSTM,BatchNormalization,Dense,GlobalMaxPool1D,GlobalAveragePooling1D,Dropout,Masking\n",
        "from keras.callbacks import EarlyStopping,ReduceLROnPlateau\n",
        "from keras.utils import plot_model\n",
        "\n",
        "word_vec_size=100\n",
        "hidden_size=128\n",
        "\n",
        "def create_lstm():\n",
        "    X = Input(shape=[sequence_size])\n",
        "    H = Embedding(vocab_size,word_vec_size,input_length=sequence_size,weights=[embedding_matrix],trainable=False)(X)\n",
        "    H = Masking(mask_value=0.0)(H)\n",
        "    \n",
        "    H = Bidirectional(LSTM(hidden_size,return_sequences=True))(H)\n",
        "    H = Bidirectional(LSTM(int(hidden_size/2),return_sequences=True))(H)\n",
        "    H = Bidirectional(LSTM(int(hidden_size/2),return_sequences=True))(H)\n",
        "    \n",
        "    H = GlobalMaxPool1D()(H)\n",
        "    H = BatchNormalization()(H)\n",
        "    H = Dense(32,activation='relu')(H)\n",
        "    H = BatchNormalization()(H)\n",
        "    Y = Dense(3,activation='softmax')(H)\n",
        "    \n",
        "    model = keras.models.Model(X,Y)\n",
        "    model.compile(loss='categorical_crossentropy',optimizer='adam',metrics=['accuracy'])\n",
        "    return model\n",
        "\n",
        "es = EarlyStopping(monitor='val_accuracy',mode='min',patience=4,verbose=1)\n",
        "rl = ReduceLROnPlateau(monitor='val_loss',mode='min',patience=3,verbose=1)"
      ],
      "metadata": {
        "id": "Enpe_ljZ1gs4"
      },
      "execution_count": 25,
      "outputs": []
    },
    {
      "cell_type": "code",
      "source": [
        "lstm_model = create_lstm()\n",
        "plot_model(lstm_model)\n",
        "lstm_history = lstm_model.fit(train_data,train_label,epochs=10,batch_size=64,validation_split=0.2,callbacks=[rl])\n",
        "lstm_model.evaluate(test_data,test_label)"
      ],
      "metadata": {
        "colab": {
          "base_uri": "https://localhost:8080/"
        },
        "id": "S7pGVEct1piQ",
        "outputId": "f6e1c10c-f669-48b3-dc6e-7459abc4b849"
      },
      "execution_count": 26,
      "outputs": [
        {
          "output_type": "stream",
          "name": "stdout",
          "text": [
            "Epoch 1/10\n",
            "147/147 [==============================] - 81s 350ms/step - loss: 0.7589 - accuracy: 0.6950 - val_loss: 0.8091 - val_accuracy: 0.6300 - lr: 0.0010\n",
            "Epoch 2/10\n",
            "147/147 [==============================] - 40s 272ms/step - loss: 0.6003 - accuracy: 0.7600 - val_loss: 0.7303 - val_accuracy: 0.6923 - lr: 0.0010\n",
            "Epoch 3/10\n",
            "147/147 [==============================] - 39s 266ms/step - loss: 0.5422 - accuracy: 0.7790 - val_loss: 0.7021 - val_accuracy: 0.6970 - lr: 0.0010\n",
            "Epoch 4/10\n",
            "147/147 [==============================] - 39s 268ms/step - loss: 0.5019 - accuracy: 0.7987 - val_loss: 0.5854 - val_accuracy: 0.7546 - lr: 0.0010\n",
            "Epoch 5/10\n",
            "147/147 [==============================] - 39s 267ms/step - loss: 0.4704 - accuracy: 0.8094 - val_loss: 0.5758 - val_accuracy: 0.7742 - lr: 0.0010\n",
            "Epoch 6/10\n",
            "147/147 [==============================] - 40s 269ms/step - loss: 0.4391 - accuracy: 0.8236 - val_loss: 0.6016 - val_accuracy: 0.7781 - lr: 0.0010\n",
            "Epoch 7/10\n",
            "147/147 [==============================] - 39s 268ms/step - loss: 0.4012 - accuracy: 0.8393 - val_loss: 0.6638 - val_accuracy: 0.7815 - lr: 0.0010\n",
            "Epoch 8/10\n",
            "147/147 [==============================] - ETA: 0s - loss: 0.3605 - accuracy: 0.8590\n",
            "Epoch 8: ReduceLROnPlateau reducing learning rate to 0.00010000000474974513.\n",
            "147/147 [==============================] - 42s 286ms/step - loss: 0.3605 - accuracy: 0.8590 - val_loss: 0.5975 - val_accuracy: 0.7653 - lr: 0.0010\n",
            "Epoch 9/10\n",
            "147/147 [==============================] - 39s 267ms/step - loss: 0.2667 - accuracy: 0.9027 - val_loss: 0.5711 - val_accuracy: 0.7866 - lr: 1.0000e-04\n",
            "Epoch 10/10\n",
            "147/147 [==============================] - 39s 267ms/step - loss: 0.2389 - accuracy: 0.9145 - val_loss: 0.5720 - val_accuracy: 0.7862 - lr: 1.0000e-04\n",
            "92/92 [==============================] - 5s 49ms/step - loss: 0.6620 - accuracy: 0.7732\n"
          ]
        },
        {
          "output_type": "execute_result",
          "data": {
            "text/plain": [
              "[0.6619646549224854, 0.7732240557670593]"
            ]
          },
          "metadata": {},
          "execution_count": 26
        }
      ]
    },
    {
      "cell_type": "markdown",
      "source": [
        " ## LSTM model without using pre-trained embedding vectors"
      ],
      "metadata": {
        "id": "Gf7X-nWm38t1"
      }
    },
    {
      "cell_type": "code",
      "source": [
        "word_vec_size=100\n",
        "hidden_size=256\n",
        "\n",
        "def create_lstm_no_emb():\n",
        "    X = Input(shape=[sequence_size])\n",
        "    H = Embedding(vocab_size,word_vec_size,input_length=sequence_size)(X)\n",
        "    H = Masking(mask_value=0.0)(H)\n",
        "    \n",
        "    H = Bidirectional(LSTM(hidden_size,return_sequences=True))(H)\n",
        "    H = BatchNormalization()(H)\n",
        "    H = Bidirectional(LSTM(int(hidden_size/2),return_sequences=True))(H)\n",
        "    H = BatchNormalization()(H)\n",
        "    H = Bidirectional(LSTM(int(hidden_size/2),return_sequences=True))(H)\n",
        "    \n",
        "    H = GlobalMaxPool1D()(H)\n",
        "    H = Dense(64,activation='relu')(H)\n",
        "    H = Dense(32,activation='relu')(H)\n",
        "    H = Dropout(0.2)(H)\n",
        "    Y = Dense(3,activation='softmax')(H)\n",
        "    \n",
        "    model = keras.models.Model(X,Y)\n",
        "    model.compile(loss='categorical_crossentropy',optimizer='adam',metrics=['accuracy'])\n",
        "    return model"
      ],
      "metadata": {
        "id": "vyAwO8tr1smI"
      },
      "execution_count": 27,
      "outputs": []
    },
    {
      "cell_type": "code",
      "source": [
        "lstm_no = create_lstm_no_emb()\n",
        "plot_model(lstm_no)\n",
        "lstm_no_hist = lstm_model.fit(train_data,train_label,epochs=15,batch_size=64,validation_split=0.2,callbacks=[rl])\n",
        "lstm_no.evaluate(test_data,test_label)"
      ],
      "metadata": {
        "colab": {
          "base_uri": "https://localhost:8080/"
        },
        "id": "fqu305ie4B1A",
        "outputId": "014a77e7-c844-4971-9aa1-7a648bc90258"
      },
      "execution_count": 28,
      "outputs": [
        {
          "output_type": "stream",
          "name": "stdout",
          "text": [
            "Epoch 1/15\n",
            "147/147 [==============================] - 39s 265ms/step - loss: 0.2193 - accuracy: 0.9240 - val_loss: 0.5819 - val_accuracy: 0.7866 - lr: 1.0000e-04\n",
            "Epoch 2/15\n",
            "147/147 [==============================] - 39s 265ms/step - loss: 0.2074 - accuracy: 0.9304 - val_loss: 0.5984 - val_accuracy: 0.7793 - lr: 1.0000e-04\n",
            "Epoch 3/15\n",
            "147/147 [==============================] - 39s 264ms/step - loss: 0.1945 - accuracy: 0.9320 - val_loss: 0.6152 - val_accuracy: 0.7836 - lr: 1.0000e-04\n",
            "Epoch 4/15\n",
            "147/147 [==============================] - ETA: 0s - loss: 0.1822 - accuracy: 0.9386\n",
            "Epoch 4: ReduceLROnPlateau reducing learning rate to 1.0000000474974514e-05.\n",
            "147/147 [==============================] - 39s 266ms/step - loss: 0.1822 - accuracy: 0.9386 - val_loss: 0.6251 - val_accuracy: 0.7819 - lr: 1.0000e-04\n",
            "Epoch 5/15\n",
            "147/147 [==============================] - 39s 266ms/step - loss: 0.1691 - accuracy: 0.9463 - val_loss: 0.6244 - val_accuracy: 0.7810 - lr: 1.0000e-05\n",
            "Epoch 6/15\n",
            "147/147 [==============================] - 39s 268ms/step - loss: 0.1674 - accuracy: 0.9465 - val_loss: 0.6268 - val_accuracy: 0.7840 - lr: 1.0000e-05\n",
            "Epoch 7/15\n",
            "147/147 [==============================] - ETA: 0s - loss: 0.1650 - accuracy: 0.9463\n",
            "Epoch 7: ReduceLROnPlateau reducing learning rate to 1.0000000656873453e-06.\n",
            "147/147 [==============================] - 39s 268ms/step - loss: 0.1650 - accuracy: 0.9463 - val_loss: 0.6279 - val_accuracy: 0.7828 - lr: 1.0000e-05\n",
            "Epoch 8/15\n",
            "147/147 [==============================] - 42s 288ms/step - loss: 0.1596 - accuracy: 0.9507 - val_loss: 0.6281 - val_accuracy: 0.7823 - lr: 1.0000e-06\n",
            "Epoch 9/15\n",
            "147/147 [==============================] - 39s 269ms/step - loss: 0.1606 - accuracy: 0.9473 - val_loss: 0.6287 - val_accuracy: 0.7819 - lr: 1.0000e-06\n",
            "Epoch 10/15\n",
            "147/147 [==============================] - ETA: 0s - loss: 0.1593 - accuracy: 0.9508\n",
            "Epoch 10: ReduceLROnPlateau reducing learning rate to 1.0000001111620805e-07.\n",
            "147/147 [==============================] - 40s 273ms/step - loss: 0.1593 - accuracy: 0.9508 - val_loss: 0.6288 - val_accuracy: 0.7823 - lr: 1.0000e-06\n",
            "Epoch 11/15\n",
            "147/147 [==============================] - 41s 276ms/step - loss: 0.1600 - accuracy: 0.9477 - val_loss: 0.6284 - val_accuracy: 0.7823 - lr: 1.0000e-07\n",
            "Epoch 12/15\n",
            "147/147 [==============================] - 40s 272ms/step - loss: 0.1592 - accuracy: 0.9502 - val_loss: 0.6287 - val_accuracy: 0.7832 - lr: 1.0000e-07\n",
            "Epoch 13/15\n",
            "147/147 [==============================] - ETA: 0s - loss: 0.1626 - accuracy: 0.9479\n",
            "Epoch 13: ReduceLROnPlateau reducing learning rate to 1.000000082740371e-08.\n",
            "147/147 [==============================] - 43s 290ms/step - loss: 0.1626 - accuracy: 0.9479 - val_loss: 0.6286 - val_accuracy: 0.7832 - lr: 1.0000e-07\n",
            "Epoch 14/15\n",
            "147/147 [==============================] - 40s 271ms/step - loss: 0.1616 - accuracy: 0.9471 - val_loss: 0.6282 - val_accuracy: 0.7828 - lr: 1.0000e-08\n",
            "Epoch 15/15\n",
            "147/147 [==============================] - 40s 272ms/step - loss: 0.1637 - accuracy: 0.9476 - val_loss: 0.6292 - val_accuracy: 0.7836 - lr: 1.0000e-08\n",
            "92/92 [==============================] - 26s 117ms/step - loss: 1.0987 - accuracy: 0.2213\n"
          ]
        },
        {
          "output_type": "execute_result",
          "data": {
            "text/plain": [
              "[1.0987484455108643, 0.22131147980690002]"
            ]
          },
          "metadata": {},
          "execution_count": 28
        }
      ]
    },
    {
      "cell_type": "markdown",
      "source": [
        "##Conv1D model using pre-trained Embedding Vectors"
      ],
      "metadata": {
        "id": "lJCjMZ7m6tCZ"
      }
    },
    {
      "cell_type": "code",
      "source": [
        "from keras.layers import Conv1D,Concatenate,LeakyReLU,Flatten\n",
        "\n",
        "def create_conv1d():\n",
        "    X = Input(shape=[sequence_size])\n",
        "    H = Embedding(vocab_size,word_vec_size,input_length=sequence_size,weights=[embedding_matrix],trainable=False,mask_zero=True)(X)\n",
        "    H = Dropout(0.3)(H)\n",
        "    \n",
        "    num_filters=[256,256,128,128]\n",
        "    kernel_sizes=[3,4,5,6]\n",
        "    conv_blocks=[]\n",
        "    \n",
        "    for i in range(len(kernel_sizes)):\n",
        "        conv = Conv1D(filters=num_filters[i],kernel_size=kernel_sizes[i],padding='valid',activation='relu')(H)\n",
        "        conv = GlobalMaxPool1D()(conv)\n",
        "        conv = Flatten()(conv)\n",
        "        conv_blocks.append(conv)\n",
        "    \n",
        "    H = Concatenate()(conv_blocks)\n",
        "    H = Dropout(0.2)(H)\n",
        "    \n",
        "    H = Dense(128)(H)\n",
        "    H = BatchNormalization()(H)\n",
        "    H = LeakyReLU()(H)\n",
        "    \n",
        "    H = Dense(16)(H)\n",
        "    H = BatchNormalization()(H)\n",
        "    H = LeakyReLU()(H)\n",
        "    \n",
        "    Y = Dense(3,activation='softmax')(H)\n",
        "    \n",
        "    model = keras.models.Model(X,Y)\n",
        "    model.compile(loss='categorical_crossentropy',optimizer='adam',metrics=['accuracy'])\n",
        "    return model"
      ],
      "metadata": {
        "id": "yRp0FjpE4FTQ"
      },
      "execution_count": 29,
      "outputs": []
    },
    {
      "cell_type": "code",
      "source": [
        "conv1d = create_conv1d()\n",
        "plot_model(conv1d)\n",
        "hist = conv1d.fit(train_data,train_label,epochs=10,validation_split=0.2,batch_size=64,callbacks=[rl])\n",
        "conv1d.evaluate(test_data,test_label)"
      ],
      "metadata": {
        "colab": {
          "base_uri": "https://localhost:8080/"
        },
        "id": "x5cC5FDR6y_4",
        "outputId": "c7eea2f1-4a3e-441f-83d4-18a0fad43b48"
      },
      "execution_count": 30,
      "outputs": [
        {
          "output_type": "stream",
          "name": "stdout",
          "text": [
            "Epoch 1/10\n",
            "147/147 [==============================] - 10s 50ms/step - loss: 0.7677 - accuracy: 0.6806 - val_loss: 0.6190 - val_accuracy: 0.7469 - lr: 0.0010\n",
            "Epoch 2/10\n",
            "147/147 [==============================] - 8s 53ms/step - loss: 0.6146 - accuracy: 0.7511 - val_loss: 0.5354 - val_accuracy: 0.7742 - lr: 0.0010\n",
            "Epoch 3/10\n",
            "147/147 [==============================] - 7s 45ms/step - loss: 0.5585 - accuracy: 0.7733 - val_loss: 0.5595 - val_accuracy: 0.7606 - lr: 0.0010\n",
            "Epoch 4/10\n",
            "147/147 [==============================] - 8s 54ms/step - loss: 0.5202 - accuracy: 0.7850 - val_loss: 0.5288 - val_accuracy: 0.7836 - lr: 0.0010\n",
            "Epoch 5/10\n",
            "147/147 [==============================] - 7s 44ms/step - loss: 0.4842 - accuracy: 0.8028 - val_loss: 0.5290 - val_accuracy: 0.7840 - lr: 0.0010\n",
            "Epoch 6/10\n",
            "147/147 [==============================] - 8s 54ms/step - loss: 0.4410 - accuracy: 0.8225 - val_loss: 0.5406 - val_accuracy: 0.7751 - lr: 0.0010\n",
            "Epoch 7/10\n",
            "146/147 [============================>.] - ETA: 0s - loss: 0.4150 - accuracy: 0.8360\n",
            "Epoch 7: ReduceLROnPlateau reducing learning rate to 0.00010000000474974513.\n",
            "147/147 [==============================] - 8s 55ms/step - loss: 0.4150 - accuracy: 0.8361 - val_loss: 0.5481 - val_accuracy: 0.7661 - lr: 0.0010\n",
            "Epoch 8/10\n",
            "147/147 [==============================] - 7s 45ms/step - loss: 0.3477 - accuracy: 0.8655 - val_loss: 0.5410 - val_accuracy: 0.7653 - lr: 1.0000e-04\n",
            "Epoch 9/10\n",
            "147/147 [==============================] - 8s 54ms/step - loss: 0.3396 - accuracy: 0.8694 - val_loss: 0.5251 - val_accuracy: 0.7815 - lr: 1.0000e-04\n",
            "Epoch 10/10\n",
            "147/147 [==============================] - 7s 45ms/step - loss: 0.3155 - accuracy: 0.8813 - val_loss: 0.5299 - val_accuracy: 0.7810 - lr: 1.0000e-04\n",
            "92/92 [==============================] - 1s 9ms/step - loss: 0.5921 - accuracy: 0.7555\n"
          ]
        },
        {
          "output_type": "execute_result",
          "data": {
            "text/plain": [
              "[0.5920613408088684, 0.755464494228363]"
            ]
          },
          "metadata": {},
          "execution_count": 30
        }
      ]
    },
    {
      "cell_type": "markdown",
      "source": [
        "#Train:Test=60:40"
      ],
      "metadata": {
        "id": "JZY7Nxj-7kfA"
      }
    },
    {
      "cell_type": "code",
      "source": [
        "train_data,test_data,train_label,test_label = train_test_split(data,label,test_size=0.4,stratify=label,random_state=42)\n",
        "\n",
        "print(\"shape of train data >>\",train_data.shape)\n",
        "print(\"shape of test data >>\",test_data.shape)\n",
        "\n",
        "fig = plt.figure(figsize=(12,6))\n",
        "ax1 = fig.add_subplot(1,2,1)\n",
        "sns.countplot(x=np.argmax(train_label,axis=1))\n",
        "plt.title(\"Distribution of train label\")\n",
        "\n",
        "ax2 = fig.add_subplot(1,2,2)\n",
        "sns.countplot(x=np.argmax(test_label,axis=1))\n",
        "plt.title(\"Distribution of test label\")\n",
        "plt.show()\n",
        "\n",
        "index_to_sentiment = {\n",
        "    0:'neutral',\n",
        "    1:'positive',\n",
        "    -1:'negative'\n",
        "}"
      ],
      "metadata": {
        "colab": {
          "base_uri": "https://localhost:8080/",
          "height": 425
        },
        "id": "s-kI7daH62qI",
        "outputId": "fd6f2525-f631-4567-853c-c708731b4393"
      },
      "execution_count": 31,
      "outputs": [
        {
          "output_type": "stream",
          "name": "stdout",
          "text": [
            "shape of train data >> (8784, 20)\n",
            "shape of test data >> (5856, 20)\n"
          ]
        },
        {
          "output_type": "display_data",
          "data": {
            "text/plain": [
              "<Figure size 864x432 with 2 Axes>"
            ],
            "image/png": "[encoded data removed]"
          },
          "metadata": {}
        }
      ]
    },
    {
      "cell_type": "markdown",
      "source": [
        "##LSTM model using pre-trained embedding vectors"
      ],
      "metadata": {
        "id": "-1vBzhxx7_1N"
      }
    },
    {
      "cell_type": "code",
      "source": [
        "embedding_dict=dict()\n",
        "\n",
        "f = open(os.path.join('glove.6B.100d.txt'),encoding='utf-8')\n",
        "for line in f:\n",
        "    tokens = line.split()\n",
        "    word = tokens[0]\n",
        "    word_vector = np.asarray(tokens[1:],dtype='float32')\n",
        "    embedding_dict[word] = word_vector\n",
        "\n",
        "f.close()\n",
        "\n",
        "print(f\"There are {len(embedding_dict)} embedding vectors in total\")\n",
        "print(f\"Dimension of each vector >> {len(embedding_dict['read'])}\")\n",
        "embedding_size = len(embedding_dict['read'])\n",
        "\n",
        "\n",
        "embedding_matrix = np.zeros((vocab_size,embedding_size))\n",
        "\n",
        "for word,idx in tokenizer.word_index.items():\n",
        "    if idx <= 7000:\n",
        "        vector = embedding_dict.get(word)\n",
        "        if vector is not None:\n",
        "            embedding_matrix[idx] = np.asarray(vector,dtype='float32')"
      ],
      "metadata": {
        "colab": {
          "base_uri": "https://localhost:8080/"
        },
        "id": "TE1JyPHy8RYn",
        "outputId": "5c3fc02d-10d7-4db6-8c83-3c6574eed577"
      },
      "execution_count": 32,
      "outputs": [
        {
          "output_type": "stream",
          "name": "stdout",
          "text": [
            "There are 400000 embedding vectors in total\n",
            "Dimension of each vector >> 100\n"
          ]
        }
      ]
    },
    {
      "cell_type": "markdown",
      "source": [
        "LSTM model (+ bidirectional, many-to-many)"
      ],
      "metadata": {
        "id": "pN7K_yb28JDT"
      }
    },
    {
      "cell_type": "code",
      "source": [
        "from keras.layers import Input,Embedding,TimeDistributed,Bidirectional,LSTM,BatchNormalization,Dense,GlobalMaxPool1D,GlobalAveragePooling1D,Dropout,Masking\n",
        "from keras.callbacks import EarlyStopping,ReduceLROnPlateau\n",
        "from keras.utils import plot_model\n",
        "\n",
        "word_vec_size=100\n",
        "hidden_size=128\n",
        "\n",
        "def create_lstm():\n",
        "    X = Input(shape=[sequence_size])\n",
        "    H = Embedding(vocab_size,word_vec_size,input_length=sequence_size,weights=[embedding_matrix],trainable=False)(X)\n",
        "    H = Masking(mask_value=0.0)(H)\n",
        "    \n",
        "    H = Bidirectional(LSTM(hidden_size,return_sequences=True))(H)\n",
        "    H = Bidirectional(LSTM(int(hidden_size/2),return_sequences=True))(H)\n",
        "    H = Bidirectional(LSTM(int(hidden_size/2),return_sequences=True))(H)\n",
        "    \n",
        "    H = GlobalMaxPool1D()(H)\n",
        "    H = BatchNormalization()(H)\n",
        "    H = Dense(32,activation='relu')(H)\n",
        "    H = BatchNormalization()(H)\n",
        "    Y = Dense(3,activation='softmax')(H)\n",
        "    \n",
        "    model = keras.models.Model(X,Y)\n",
        "    model.compile(loss='categorical_crossentropy',optimizer='adam',metrics=['accuracy'])\n",
        "    return model\n",
        "\n",
        "es = EarlyStopping(monitor='val_accuracy',mode='min',patience=4,verbose=1)\n",
        "rl = ReduceLROnPlateau(monitor='val_loss',mode='min',patience=3,verbose=1)"
      ],
      "metadata": {
        "id": "zQ2sEYUn77WY"
      },
      "execution_count": 33,
      "outputs": []
    },
    {
      "cell_type": "code",
      "source": [
        "lstm_model = create_lstm()\n",
        "plot_model(lstm_model)\n",
        "lstm_history = lstm_model.fit(train_data,train_label,epochs=10,batch_size=64,validation_split=0.2,callbacks=[rl])\n",
        "lstm_model.evaluate(test_data,test_label)"
      ],
      "metadata": {
        "colab": {
          "base_uri": "https://localhost:8080/"
        },
        "id": "R6pe2-vQ8ZgI",
        "outputId": "6ed3ebe4-5bbe-40cf-c000-8197b274638e"
      },
      "execution_count": 34,
      "outputs": [
        {
          "output_type": "stream",
          "name": "stdout",
          "text": [
            "Epoch 1/10\n",
            "110/110 [==============================] - 69s 350ms/step - loss: 0.7876 - accuracy: 0.6821 - val_loss: 0.8262 - val_accuracy: 0.6232 - lr: 0.0010\n",
            "Epoch 2/10\n",
            "110/110 [==============================] - 30s 276ms/step - loss: 0.6154 - accuracy: 0.7596 - val_loss: 0.7718 - val_accuracy: 0.6528 - lr: 0.0010\n",
            "Epoch 3/10\n",
            "110/110 [==============================] - 30s 269ms/step - loss: 0.5577 - accuracy: 0.7740 - val_loss: 0.7214 - val_accuracy: 0.6927 - lr: 0.0010\n",
            "Epoch 4/10\n",
            "110/110 [==============================] - 30s 271ms/step - loss: 0.5200 - accuracy: 0.7907 - val_loss: 0.6463 - val_accuracy: 0.7319 - lr: 0.0010\n",
            "Epoch 5/10\n",
            "110/110 [==============================] - 30s 270ms/step - loss: 0.4806 - accuracy: 0.8032 - val_loss: 0.6055 - val_accuracy: 0.7570 - lr: 0.0010\n",
            "Epoch 6/10\n",
            "110/110 [==============================] - 32s 291ms/step - loss: 0.4441 - accuracy: 0.8224 - val_loss: 0.6605 - val_accuracy: 0.7507 - lr: 0.0010\n",
            "Epoch 7/10\n",
            "110/110 [==============================] - 29s 266ms/step - loss: 0.4053 - accuracy: 0.8393 - val_loss: 0.6179 - val_accuracy: 0.7655 - lr: 0.0010\n",
            "Epoch 8/10\n",
            "110/110 [==============================] - ETA: 0s - loss: 0.3675 - accuracy: 0.8558\n",
            "Epoch 8: ReduceLROnPlateau reducing learning rate to 0.00010000000474974513.\n",
            "110/110 [==============================] - 38s 350ms/step - loss: 0.3675 - accuracy: 0.8558 - val_loss: 0.6563 - val_accuracy: 0.7467 - lr: 0.0010\n",
            "Epoch 9/10\n",
            "110/110 [==============================] - 29s 267ms/step - loss: 0.2951 - accuracy: 0.8904 - val_loss: 0.6036 - val_accuracy: 0.7718 - lr: 1.0000e-04\n",
            "Epoch 10/10\n",
            "110/110 [==============================] - 31s 278ms/step - loss: 0.2528 - accuracy: 0.9085 - val_loss: 0.6211 - val_accuracy: 0.7655 - lr: 1.0000e-04\n",
            "183/183 [==============================] - 10s 55ms/step - loss: 0.6283 - accuracy: 0.7666\n"
          ]
        },
        {
          "output_type": "execute_result",
          "data": {
            "text/plain": [
              "[0.6282838582992554, 0.7665641903877258]"
            ]
          },
          "metadata": {},
          "execution_count": 34
        }
      ]
    },
    {
      "cell_type": "markdown",
      "source": [
        "##LSTM model without using pre-trained embedding vectors"
      ],
      "metadata": {
        "id": "XVw7iUxR-GlF"
      }
    },
    {
      "cell_type": "code",
      "source": [
        "word_vec_size=100\n",
        "hidden_size=256\n",
        "\n",
        "def create_lstm_no_emb():\n",
        "    X = Input(shape=[sequence_size])\n",
        "    H = Embedding(vocab_size,word_vec_size,input_length=sequence_size)(X)\n",
        "    H = Masking(mask_value=0.0)(H)\n",
        "    \n",
        "    H = Bidirectional(LSTM(hidden_size,return_sequences=True))(H)\n",
        "    H = BatchNormalization()(H)\n",
        "    H = Bidirectional(LSTM(int(hidden_size/2),return_sequences=True))(H)\n",
        "    H = BatchNormalization()(H)\n",
        "    H = Bidirectional(LSTM(int(hidden_size/2),return_sequences=True))(H)\n",
        "    \n",
        "    H = GlobalMaxPool1D()(H)\n",
        "    H = Dense(64,activation='relu')(H)\n",
        "    H = Dense(32,activation='relu')(H)\n",
        "    H = Dropout(0.2)(H)\n",
        "    Y = Dense(3,activation='softmax')(H)\n",
        "    \n",
        "    model = keras.models.Model(X,Y)\n",
        "    model.compile(loss='categorical_crossentropy',optimizer='adam',metrics=['accuracy'])\n",
        "    return model"
      ],
      "metadata": {
        "id": "j7IFkPOr8cZY"
      },
      "execution_count": 35,
      "outputs": []
    },
    {
      "cell_type": "code",
      "source": [
        "lstm_no = create_lstm_no_emb()\n",
        "plot_model(lstm_no)\n",
        "lstm_no_hist = lstm_model.fit(train_data,train_label,epochs=15,batch_size=64,validation_split=0.2,callbacks=[rl])\n",
        "lstm_no.evaluate(test_data,test_label)"
      ],
      "metadata": {
        "colab": {
          "base_uri": "https://localhost:8080/"
        },
        "id": "mbT1d9W3-Kaw",
        "outputId": "8c897b9a-3a12-411f-ac12-33c7c08e4537"
      },
      "execution_count": 36,
      "outputs": [
        {
          "output_type": "stream",
          "name": "stdout",
          "text": [
            "Epoch 1/15\n",
            "110/110 [==============================] - 29s 263ms/step - loss: 0.2324 - accuracy: 0.9169 - val_loss: 0.6397 - val_accuracy: 0.7627 - lr: 1.0000e-04\n",
            "Epoch 2/15\n",
            "110/110 [==============================] - 33s 298ms/step - loss: 0.2157 - accuracy: 0.9254 - val_loss: 0.6600 - val_accuracy: 0.7718 - lr: 1.0000e-04\n",
            "Epoch 3/15\n",
            "110/110 [==============================] - 30s 273ms/step - loss: 0.2027 - accuracy: 0.9321 - val_loss: 0.6658 - val_accuracy: 0.7644 - lr: 1.0000e-04\n",
            "Epoch 4/15\n",
            "110/110 [==============================] - ETA: 0s - loss: 0.1916 - accuracy: 0.9355\n",
            "Epoch 4: ReduceLROnPlateau reducing learning rate to 1.0000000474974514e-05.\n",
            "110/110 [==============================] - 29s 263ms/step - loss: 0.1916 - accuracy: 0.9355 - val_loss: 0.6824 - val_accuracy: 0.7638 - lr: 1.0000e-04\n",
            "Epoch 5/15\n",
            "110/110 [==============================] - 32s 293ms/step - loss: 0.1776 - accuracy: 0.9411 - val_loss: 0.6900 - val_accuracy: 0.7638 - lr: 1.0000e-05\n",
            "Epoch 6/15\n",
            "110/110 [==============================] - 30s 270ms/step - loss: 0.1703 - accuracy: 0.9459 - val_loss: 0.6935 - val_accuracy: 0.7661 - lr: 1.0000e-05\n",
            "Epoch 7/15\n",
            "110/110 [==============================] - ETA: 0s - loss: 0.1715 - accuracy: 0.9432\n",
            "Epoch 7: ReduceLROnPlateau reducing learning rate to 1.0000000656873453e-06.\n",
            "110/110 [==============================] - 30s 273ms/step - loss: 0.1715 - accuracy: 0.9432 - val_loss: 0.6963 - val_accuracy: 0.7655 - lr: 1.0000e-05\n",
            "Epoch 8/15\n",
            "110/110 [==============================] - 30s 274ms/step - loss: 0.1690 - accuracy: 0.9454 - val_loss: 0.6964 - val_accuracy: 0.7666 - lr: 1.0000e-06\n",
            "Epoch 9/15\n",
            "110/110 [==============================] - 29s 263ms/step - loss: 0.1657 - accuracy: 0.9485 - val_loss: 0.6967 - val_accuracy: 0.7672 - lr: 1.0000e-06\n",
            "Epoch 10/15\n",
            "110/110 [==============================] - ETA: 0s - loss: 0.1689 - accuracy: 0.9478\n",
            "Epoch 10: ReduceLROnPlateau reducing learning rate to 1.0000001111620805e-07.\n",
            "110/110 [==============================] - 30s 272ms/step - loss: 0.1689 - accuracy: 0.9478 - val_loss: 0.6974 - val_accuracy: 0.7684 - lr: 1.0000e-06\n",
            "Epoch 11/15\n",
            "110/110 [==============================] - 29s 265ms/step - loss: 0.1668 - accuracy: 0.9496 - val_loss: 0.6973 - val_accuracy: 0.7689 - lr: 1.0000e-07\n",
            "Epoch 12/15\n",
            "110/110 [==============================] - 29s 262ms/step - loss: 0.1656 - accuracy: 0.9466 - val_loss: 0.6968 - val_accuracy: 0.7678 - lr: 1.0000e-07\n",
            "Epoch 13/15\n",
            "110/110 [==============================] - ETA: 0s - loss: 0.1659 - accuracy: 0.9486\n",
            "Epoch 13: ReduceLROnPlateau reducing learning rate to 1.000000082740371e-08.\n",
            "110/110 [==============================] - 32s 296ms/step - loss: 0.1659 - accuracy: 0.9486 - val_loss: 0.6965 - val_accuracy: 0.7666 - lr: 1.0000e-07\n",
            "Epoch 14/15\n",
            "110/110 [==============================] - 30s 271ms/step - loss: 0.1647 - accuracy: 0.9475 - val_loss: 0.6975 - val_accuracy: 0.7684 - lr: 1.0000e-08\n",
            "Epoch 15/15\n",
            "110/110 [==============================] - 29s 268ms/step - loss: 0.1699 - accuracy: 0.9461 - val_loss: 0.6979 - val_accuracy: 0.7672 - lr: 1.0000e-08\n",
            "183/183 [==============================] - 37s 117ms/step - loss: 1.0983 - accuracy: 0.4703\n"
          ]
        },
        {
          "output_type": "execute_result",
          "data": {
            "text/plain": [
              "[1.0982553958892822, 0.47028687596321106]"
            ]
          },
          "metadata": {},
          "execution_count": 36
        }
      ]
    },
    {
      "cell_type": "markdown",
      "source": [
        "##Conv1D model using pre-trained Embedding Vectors"
      ],
      "metadata": {
        "id": "AF3WQQ9kARzh"
      }
    },
    {
      "cell_type": "code",
      "source": [
        "from keras.layers import Conv1D,Concatenate,LeakyReLU,Flatten\n",
        "\n",
        "def create_conv1d():\n",
        "    X = Input(shape=[sequence_size])\n",
        "    H = Embedding(vocab_size,word_vec_size,input_length=sequence_size,weights=[embedding_matrix],trainable=False,mask_zero=True)(X)\n",
        "    H = Dropout(0.3)(H)\n",
        "    \n",
        "    num_filters=[256,256,128,128]\n",
        "    kernel_sizes=[3,4,5,6]\n",
        "    conv_blocks=[]\n",
        "    \n",
        "    for i in range(len(kernel_sizes)):\n",
        "        conv = Conv1D(filters=num_filters[i],kernel_size=kernel_sizes[i],padding='valid',activation='relu')(H)\n",
        "        conv = GlobalMaxPool1D()(conv)\n",
        "        conv = Flatten()(conv)\n",
        "        conv_blocks.append(conv)\n",
        "    \n",
        "    H = Concatenate()(conv_blocks)\n",
        "    H = Dropout(0.2)(H)\n",
        "    \n",
        "    H = Dense(128)(H)\n",
        "    H = BatchNormalization()(H)\n",
        "    H = LeakyReLU()(H)\n",
        "    \n",
        "    H = Dense(16)(H)\n",
        "    H = BatchNormalization()(H)\n",
        "    H = LeakyReLU()(H)\n",
        "    \n",
        "    Y = Dense(3,activation='softmax')(H)\n",
        "    \n",
        "    model = keras.models.Model(X,Y)\n",
        "    model.compile(loss='categorical_crossentropy',optimizer='adam',metrics=['accuracy'])\n",
        "    return model"
      ],
      "metadata": {
        "id": "ISEQn_9k-PL_"
      },
      "execution_count": 37,
      "outputs": []
    },
    {
      "cell_type": "code",
      "source": [
        "conv1d = create_conv1d()\n",
        "plot_model(conv1d)\n",
        "hist = conv1d.fit(train_data,train_label,epochs=10,validation_split=0.2,batch_size=64,callbacks=[rl])\n",
        "conv1d.evaluate(test_data,test_label)"
      ],
      "metadata": {
        "colab": {
          "base_uri": "https://localhost:8080/"
        },
        "id": "nd62bHGiAWwA",
        "outputId": "33d66083-29d4-4740-8680-cdca4d3e6dbc"
      },
      "execution_count": 38,
      "outputs": [
        {
          "output_type": "stream",
          "name": "stdout",
          "text": [
            "Epoch 1/10\n",
            "110/110 [==============================] - 9s 53ms/step - loss: 0.9009 - accuracy: 0.6283 - val_loss: 0.7950 - val_accuracy: 0.7052 - lr: 0.0010\n",
            "Epoch 2/10\n",
            "110/110 [==============================] - 6s 59ms/step - loss: 0.6612 - accuracy: 0.7430 - val_loss: 0.6198 - val_accuracy: 0.7541 - lr: 0.0010\n",
            "Epoch 3/10\n",
            "110/110 [==============================] - 6s 50ms/step - loss: 0.5809 - accuracy: 0.7720 - val_loss: 0.6300 - val_accuracy: 0.7456 - lr: 0.0010\n",
            "Epoch 4/10\n",
            "110/110 [==============================] - 6s 59ms/step - loss: 0.5344 - accuracy: 0.7794 - val_loss: 0.5747 - val_accuracy: 0.7666 - lr: 0.0010\n",
            "Epoch 5/10\n",
            "110/110 [==============================] - 5s 50ms/step - loss: 0.4916 - accuracy: 0.8050 - val_loss: 0.6425 - val_accuracy: 0.7183 - lr: 0.0010\n",
            "Epoch 6/10\n",
            "110/110 [==============================] - 6s 54ms/step - loss: 0.4478 - accuracy: 0.8224 - val_loss: 0.6821 - val_accuracy: 0.6892 - lr: 0.0010\n",
            "Epoch 7/10\n",
            "109/110 [============================>.] - ETA: 0s - loss: 0.4106 - accuracy: 0.8341\n",
            "Epoch 7: ReduceLROnPlateau reducing learning rate to 0.00010000000474974513.\n",
            "110/110 [==============================] - 6s 54ms/step - loss: 0.4124 - accuracy: 0.8332 - val_loss: 0.6036 - val_accuracy: 0.7450 - lr: 0.0010\n",
            "Epoch 8/10\n",
            "110/110 [==============================] - 6s 50ms/step - loss: 0.3499 - accuracy: 0.8667 - val_loss: 0.5668 - val_accuracy: 0.7655 - lr: 1.0000e-04\n",
            "Epoch 9/10\n",
            "110/110 [==============================] - 7s 59ms/step - loss: 0.3387 - accuracy: 0.8649 - val_loss: 0.5754 - val_accuracy: 0.7604 - lr: 1.0000e-04\n",
            "Epoch 10/10\n",
            "110/110 [==============================] - 5s 48ms/step - loss: 0.3299 - accuracy: 0.8723 - val_loss: 0.5769 - val_accuracy: 0.7621 - lr: 1.0000e-04\n",
            "183/183 [==============================] - 3s 15ms/step - loss: 0.5827 - accuracy: 0.7621\n"
          ]
        },
        {
          "output_type": "execute_result",
          "data": {
            "text/plain": [
              "[0.5826712846755981, 0.7621243000030518]"
            ]
          },
          "metadata": {},
          "execution_count": 38
        }
      ]
    },
    {
      "cell_type": "markdown",
      "source": [
        "#Train:Test=90:10"
      ],
      "metadata": {
        "id": "y34LXadAAs3J"
      }
    },
    {
      "cell_type": "code",
      "source": [
        "train_data,test_data,train_label,test_label = train_test_split(data,label,test_size=0.1,stratify=label,random_state=42)\n",
        "\n",
        "print(\"shape of train data >>\",train_data.shape)\n",
        "print(\"shape of test data >>\",test_data.shape)\n",
        "\n",
        "fig = plt.figure(figsize=(12,6))\n",
        "ax1 = fig.add_subplot(1,2,1)\n",
        "sns.countplot(x=np.argmax(train_label,axis=1))\n",
        "plt.title(\"Distribution of train label\")\n",
        "\n",
        "ax2 = fig.add_subplot(1,2,2)\n",
        "sns.countplot(x=np.argmax(test_label,axis=1))\n",
        "plt.title(\"Distribution of test label\")\n",
        "plt.show()\n",
        "\n",
        "index_to_sentiment = {\n",
        "    0:'neutral',\n",
        "    1:'positive',\n",
        "    -1:'negative'\n",
        "}"
      ],
      "metadata": {
        "colab": {
          "base_uri": "https://localhost:8080/",
          "height": 425
        },
        "id": "YTbiUTF8AZX3",
        "outputId": "4474ad75-5994-45d8-c797-74767b4f1578"
      },
      "execution_count": 39,
      "outputs": [
        {
          "output_type": "stream",
          "name": "stdout",
          "text": [
            "shape of train data >> (13176, 20)\n",
            "shape of test data >> (1464, 20)\n"
          ]
        },
        {
          "output_type": "display_data",
          "data": {
            "text/plain": [
              "<Figure size 864x432 with 2 Axes>"
            ],
            "image/png": "[encoded data removed]"
          },
          "metadata": {}
        }
      ]
    },
    {
      "cell_type": "markdown",
      "source": [
        "##LSTM model using pre-trained embedding vectors"
      ],
      "metadata": {
        "id": "NSlhM9t8A-aH"
      }
    },
    {
      "cell_type": "code",
      "source": [
        "embedding_dict=dict()\n",
        "\n",
        "f = open(os.path.join('glove.6B.100d.txt'),encoding='utf-8')\n",
        "for line in f:\n",
        "    tokens = line.split()\n",
        "    word = tokens[0]\n",
        "    word_vector = np.asarray(tokens[1:],dtype='float32')\n",
        "    embedding_dict[word] = word_vector\n",
        "\n",
        "f.close()\n",
        "\n",
        "print(f\"There are {len(embedding_dict)} embedding vectors in total\")\n",
        "print(f\"Dimension of each vector >> {len(embedding_dict['read'])}\")\n",
        "embedding_size = len(embedding_dict['read'])\n",
        "\n",
        "\n",
        "embedding_matrix = np.zeros((vocab_size,embedding_size))\n",
        "\n",
        "for word,idx in tokenizer.word_index.items():\n",
        "    if idx <= 7000:\n",
        "        vector = embedding_dict.get(word)\n",
        "        if vector is not None:\n",
        "            embedding_matrix[idx] = np.asarray(vector,dtype='float32')"
      ],
      "metadata": {
        "colab": {
          "base_uri": "https://localhost:8080/"
        },
        "id": "h4UZnbxjA5X3",
        "outputId": "87255dd9-6ccb-4372-db7f-19861e796778"
      },
      "execution_count": 40,
      "outputs": [
        {
          "output_type": "stream",
          "name": "stdout",
          "text": [
            "There are 400000 embedding vectors in total\n",
            "Dimension of each vector >> 100\n"
          ]
        }
      ]
    },
    {
      "cell_type": "markdown",
      "source": [
        "LSTM model (+ bidirectional, many-to-many)"
      ],
      "metadata": {
        "id": "_A7_aS3NBJJp"
      }
    },
    {
      "cell_type": "code",
      "source": [
        "from keras.layers import Input,Embedding,TimeDistributed,Bidirectional,LSTM,BatchNormalization,Dense,GlobalMaxPool1D,GlobalAveragePooling1D,Dropout,Masking\n",
        "from keras.callbacks import EarlyStopping,ReduceLROnPlateau\n",
        "from keras.utils import plot_model\n",
        "\n",
        "word_vec_size=100\n",
        "hidden_size=128\n",
        "\n",
        "def create_lstm():\n",
        "    X = Input(shape=[sequence_size])\n",
        "    H = Embedding(vocab_size,word_vec_size,input_length=sequence_size,weights=[embedding_matrix],trainable=False)(X)\n",
        "    H = Masking(mask_value=0.0)(H)\n",
        "    \n",
        "    H = Bidirectional(LSTM(hidden_size,return_sequences=True))(H)\n",
        "    H = Bidirectional(LSTM(int(hidden_size/2),return_sequences=True))(H)\n",
        "    H = Bidirectional(LSTM(int(hidden_size/2),return_sequences=True))(H)\n",
        "    \n",
        "    H = GlobalMaxPool1D()(H)\n",
        "    H = BatchNormalization()(H)\n",
        "    H = Dense(32,activation='relu')(H)\n",
        "    H = BatchNormalization()(H)\n",
        "    Y = Dense(3,activation='softmax')(H)\n",
        "    \n",
        "    model = keras.models.Model(X,Y)\n",
        "    model.compile(loss='categorical_crossentropy',optimizer='adam',metrics=['accuracy'])\n",
        "    return model\n",
        "\n",
        "es = EarlyStopping(monitor='val_accuracy',mode='min',patience=4,verbose=1)\n",
        "rl = ReduceLROnPlateau(monitor='val_loss',mode='min',patience=3,verbose=1)"
      ],
      "metadata": {
        "id": "4pOTFmRGBDpn"
      },
      "execution_count": 41,
      "outputs": []
    },
    {
      "cell_type": "code",
      "source": [
        "lstm_model = create_lstm()\n",
        "plot_model(lstm_model)\n",
        "lstm_history = lstm_model.fit(train_data,train_label,epochs=10,batch_size=64,validation_split=0.2,callbacks=[rl])\n",
        "lstm_model.evaluate(test_data,test_label)"
      ],
      "metadata": {
        "colab": {
          "base_uri": "https://localhost:8080/"
        },
        "id": "6o1AGmv5BMbv",
        "outputId": "20319513-cd12-4b87-bcae-109188abed0e"
      },
      "execution_count": 42,
      "outputs": [
        {
          "output_type": "stream",
          "name": "stdout",
          "text": [
            "Epoch 1/10\n",
            "165/165 [==============================] - 84s 332ms/step - loss: 0.7650 - accuracy: 0.6861 - val_loss: 0.7948 - val_accuracy: 0.6574 - lr: 0.0010\n",
            "Epoch 2/10\n",
            "165/165 [==============================] - 46s 281ms/step - loss: 0.5923 - accuracy: 0.7620 - val_loss: 0.7367 - val_accuracy: 0.6992 - lr: 0.0010\n",
            "Epoch 3/10\n",
            "165/165 [==============================] - 44s 264ms/step - loss: 0.5451 - accuracy: 0.7783 - val_loss: 0.6842 - val_accuracy: 0.7253 - lr: 0.0010\n",
            "Epoch 4/10\n",
            "165/165 [==============================] - 45s 273ms/step - loss: 0.5055 - accuracy: 0.7902 - val_loss: 0.6202 - val_accuracy: 0.7659 - lr: 0.0010\n",
            "Epoch 5/10\n",
            "165/165 [==============================] - 46s 281ms/step - loss: 0.4761 - accuracy: 0.8080 - val_loss: 0.5671 - val_accuracy: 0.7781 - lr: 0.0010\n",
            "Epoch 6/10\n",
            "165/165 [==============================] - 48s 292ms/step - loss: 0.4414 - accuracy: 0.8187 - val_loss: 0.6960 - val_accuracy: 0.7511 - lr: 0.0010\n",
            "Epoch 7/10\n",
            "165/165 [==============================] - 47s 283ms/step - loss: 0.4025 - accuracy: 0.8348 - val_loss: 0.5879 - val_accuracy: 0.7766 - lr: 0.0010\n",
            "Epoch 8/10\n",
            "165/165 [==============================] - ETA: 0s - loss: 0.3620 - accuracy: 0.8547\n",
            "Epoch 8: ReduceLROnPlateau reducing learning rate to 0.00010000000474974513.\n",
            "165/165 [==============================] - 49s 298ms/step - loss: 0.3620 - accuracy: 0.8547 - val_loss: 0.6210 - val_accuracy: 0.7705 - lr: 0.0010\n",
            "Epoch 9/10\n",
            "165/165 [==============================] - 44s 266ms/step - loss: 0.2782 - accuracy: 0.8921 - val_loss: 0.6022 - val_accuracy: 0.7777 - lr: 1.0000e-04\n",
            "Epoch 10/10\n",
            "165/165 [==============================] - 48s 289ms/step - loss: 0.2457 - accuracy: 0.9047 - val_loss: 0.6174 - val_accuracy: 0.7762 - lr: 1.0000e-04\n",
            "46/46 [==============================] - 2s 46ms/step - loss: 0.6661 - accuracy: 0.7582\n"
          ]
        },
        {
          "output_type": "execute_result",
          "data": {
            "text/plain": [
              "[0.6660506725311279, 0.7581967115402222]"
            ]
          },
          "metadata": {},
          "execution_count": 42
        }
      ]
    },
    {
      "cell_type": "markdown",
      "source": [
        "##LSTM model without using pre-trained embedding vectors"
      ],
      "metadata": {
        "id": "qDDuKOl8Cv_a"
      }
    },
    {
      "cell_type": "code",
      "source": [
        "word_vec_size=100\n",
        "hidden_size=256\n",
        "\n",
        "def create_lstm_no_emb():\n",
        "    X = Input(shape=[sequence_size])\n",
        "    H = Embedding(vocab_size,word_vec_size,input_length=sequence_size)(X)\n",
        "    H = Masking(mask_value=0.0)(H)\n",
        "    \n",
        "    H = Bidirectional(LSTM(hidden_size,return_sequences=True))(H)\n",
        "    H = BatchNormalization()(H)\n",
        "    H = Bidirectional(LSTM(int(hidden_size/2),return_sequences=True))(H)\n",
        "    H = BatchNormalization()(H)\n",
        "    H = Bidirectional(LSTM(int(hidden_size/2),return_sequences=True))(H)\n",
        "    \n",
        "    H = GlobalMaxPool1D()(H)\n",
        "    H = Dense(64,activation='relu')(H)\n",
        "    H = Dense(32,activation='relu')(H)\n",
        "    H = Dropout(0.2)(H)\n",
        "    Y = Dense(3,activation='softmax')(H)\n",
        "    \n",
        "    model = keras.models.Model(X,Y)\n",
        "    model.compile(loss='categorical_crossentropy',optimizer='adam',metrics=['accuracy'])\n",
        "    return model"
      ],
      "metadata": {
        "id": "fjIXwXomBPVn"
      },
      "execution_count": 43,
      "outputs": []
    },
    {
      "cell_type": "code",
      "source": [
        "lstm_no = create_lstm_no_emb()\n",
        "plot_model(lstm_no)\n",
        "lstm_no_hist = lstm_model.fit(train_data,train_label,epochs=15,batch_size=64,validation_split=0.2,callbacks=[rl])\n",
        "lstm_no.evaluate(test_data,test_label)"
      ],
      "metadata": {
        "colab": {
          "base_uri": "https://localhost:8080/"
        },
        "id": "YQz-hoo2DbTf",
        "outputId": "7402c02d-178a-4486-e8b2-2aff0b423491"
      },
      "execution_count": 44,
      "outputs": [
        {
          "output_type": "stream",
          "name": "stdout",
          "text": [
            "Epoch 1/15\n",
            "165/165 [==============================] - 44s 266ms/step - loss: 0.2239 - accuracy: 0.9174 - val_loss: 0.6798 - val_accuracy: 0.7644 - lr: 1.0000e-04\n",
            "Epoch 2/15\n",
            "165/165 [==============================] - 45s 273ms/step - loss: 0.2127 - accuracy: 0.9231 - val_loss: 0.6544 - val_accuracy: 0.7766 - lr: 1.0000e-04\n",
            "Epoch 3/15\n",
            "165/165 [==============================] - 46s 280ms/step - loss: 0.1981 - accuracy: 0.9304 - val_loss: 0.6716 - val_accuracy: 0.7712 - lr: 1.0000e-04\n",
            "Epoch 4/15\n",
            "165/165 [==============================] - 48s 289ms/step - loss: 0.1878 - accuracy: 0.9330 - val_loss: 0.7010 - val_accuracy: 0.7693 - lr: 1.0000e-04\n",
            "Epoch 5/15\n",
            "165/165 [==============================] - ETA: 0s - loss: 0.1752 - accuracy: 0.9384\n",
            "Epoch 5: ReduceLROnPlateau reducing learning rate to 1.0000000474974514e-05.\n",
            "165/165 [==============================] - 46s 282ms/step - loss: 0.1752 - accuracy: 0.9384 - val_loss: 0.7249 - val_accuracy: 0.7678 - lr: 1.0000e-04\n",
            "Epoch 6/15\n",
            "165/165 [==============================] - 47s 283ms/step - loss: 0.1585 - accuracy: 0.9468 - val_loss: 0.7177 - val_accuracy: 0.7693 - lr: 1.0000e-05\n",
            "Epoch 7/15\n",
            "165/165 [==============================] - 48s 288ms/step - loss: 0.1544 - accuracy: 0.9486 - val_loss: 0.7187 - val_accuracy: 0.7667 - lr: 1.0000e-05\n",
            "Epoch 8/15\n",
            "165/165 [==============================] - ETA: 0s - loss: 0.1515 - accuracy: 0.9504\n",
            "Epoch 8: ReduceLROnPlateau reducing learning rate to 1.0000000656873453e-06.\n",
            "165/165 [==============================] - 48s 290ms/step - loss: 0.1515 - accuracy: 0.9504 - val_loss: 0.7239 - val_accuracy: 0.7667 - lr: 1.0000e-05\n",
            "Epoch 9/15\n",
            "165/165 [==============================] - 46s 281ms/step - loss: 0.1513 - accuracy: 0.9498 - val_loss: 0.7244 - val_accuracy: 0.7667 - lr: 1.0000e-06\n",
            "Epoch 10/15\n",
            "165/165 [==============================] - 44s 266ms/step - loss: 0.1506 - accuracy: 0.9524 - val_loss: 0.7251 - val_accuracy: 0.7667 - lr: 1.0000e-06\n",
            "Epoch 11/15\n",
            "165/165 [==============================] - ETA: 0s - loss: 0.1495 - accuracy: 0.9517\n",
            "Epoch 11: ReduceLROnPlateau reducing learning rate to 1.0000001111620805e-07.\n",
            "165/165 [==============================] - 47s 285ms/step - loss: 0.1495 - accuracy: 0.9517 - val_loss: 0.7239 - val_accuracy: 0.7682 - lr: 1.0000e-06\n",
            "Epoch 12/15\n",
            "165/165 [==============================] - 46s 282ms/step - loss: 0.1531 - accuracy: 0.9486 - val_loss: 0.7246 - val_accuracy: 0.7675 - lr: 1.0000e-07\n",
            "Epoch 13/15\n",
            "165/165 [==============================] - 47s 284ms/step - loss: 0.1486 - accuracy: 0.9529 - val_loss: 0.7253 - val_accuracy: 0.7671 - lr: 1.0000e-07\n",
            "Epoch 14/15\n",
            "165/165 [==============================] - ETA: 0s - loss: 0.1496 - accuracy: 0.9518\n",
            "Epoch 14: ReduceLROnPlateau reducing learning rate to 1.000000082740371e-08.\n",
            "165/165 [==============================] - 48s 292ms/step - loss: 0.1496 - accuracy: 0.9518 - val_loss: 0.7247 - val_accuracy: 0.7675 - lr: 1.0000e-07\n",
            "Epoch 15/15\n",
            "165/165 [==============================] - 45s 276ms/step - loss: 0.1522 - accuracy: 0.9491 - val_loss: 0.7249 - val_accuracy: 0.7675 - lr: 1.0000e-08\n",
            "46/46 [==============================] - 20s 107ms/step - loss: 1.0997 - accuracy: 0.1605\n"
          ]
        },
        {
          "output_type": "execute_result",
          "data": {
            "text/plain": [
              "[1.0997459888458252, 0.16051912307739258]"
            ]
          },
          "metadata": {},
          "execution_count": 44
        }
      ]
    },
    {
      "cell_type": "markdown",
      "source": [
        "##Conv1D model using pre-trained Embedding Vectors"
      ],
      "metadata": {
        "id": "ryqbdGv1H6am"
      }
    },
    {
      "cell_type": "code",
      "source": [
        "from keras.layers import Conv1D,Concatenate,LeakyReLU,Flatten\n",
        "\n",
        "def create_conv1d():\n",
        "    X = Input(shape=[sequence_size])\n",
        "    H = Embedding(vocab_size,word_vec_size,input_length=sequence_size,weights=[embedding_matrix],trainable=False,mask_zero=True)(X)\n",
        "    H = Dropout(0.3)(H)\n",
        "    \n",
        "    num_filters=[256,256,128,128]\n",
        "    kernel_sizes=[3,4,5,6]\n",
        "    conv_blocks=[]\n",
        "    \n",
        "    for i in range(len(kernel_sizes)):\n",
        "        conv = Conv1D(filters=num_filters[i],kernel_size=kernel_sizes[i],padding='valid',activation='relu')(H)\n",
        "        conv = GlobalMaxPool1D()(conv)\n",
        "        conv = Flatten()(conv)\n",
        "        conv_blocks.append(conv)\n",
        "    \n",
        "    H = Concatenate()(conv_blocks)\n",
        "    H = Dropout(0.2)(H)\n",
        "    \n",
        "    H = Dense(128)(H)\n",
        "    H = BatchNormalization()(H)\n",
        "    H = LeakyReLU()(H)\n",
        "    \n",
        "    H = Dense(16)(H)\n",
        "    H = BatchNormalization()(H)\n",
        "    H = LeakyReLU()(H)\n",
        "    \n",
        "    Y = Dense(3,activation='softmax')(H)\n",
        "    \n",
        "    model = keras.models.Model(X,Y)\n",
        "    model.compile(loss='categorical_crossentropy',optimizer='adam',metrics=['accuracy'])\n",
        "    return model"
      ],
      "metadata": {
        "id": "W3gi-E4PDfhn"
      },
      "execution_count": 45,
      "outputs": []
    },
    {
      "cell_type": "code",
      "source": [
        "conv1d = create_conv1d()\n",
        "plot_model(conv1d)\n",
        "hist = conv1d.fit(train_data,train_label,epochs=10,validation_split=0.2,batch_size=64,callbacks=[rl])\n",
        "conv1d.evaluate(test_data,test_label)"
      ],
      "metadata": {
        "colab": {
          "base_uri": "https://localhost:8080/"
        },
        "id": "4cmZJcn7IA9P",
        "outputId": "913207b0-5901-4263-9401-a89f09cdf4a3"
      },
      "execution_count": 46,
      "outputs": [
        {
          "output_type": "stream",
          "name": "stdout",
          "text": [
            "Epoch 1/10\n",
            "165/165 [==============================] - 11s 54ms/step - loss: 0.7930 - accuracy: 0.6757 - val_loss: 0.6154 - val_accuracy: 0.7504 - lr: 0.0010\n",
            "Epoch 2/10\n",
            "165/165 [==============================] - 8s 49ms/step - loss: 0.6085 - accuracy: 0.7518 - val_loss: 0.5674 - val_accuracy: 0.7663 - lr: 0.0010\n",
            "Epoch 3/10\n",
            "165/165 [==============================] - 8s 49ms/step - loss: 0.5520 - accuracy: 0.7764 - val_loss: 0.6119 - val_accuracy: 0.7572 - lr: 0.0010\n",
            "Epoch 4/10\n",
            "165/165 [==============================] - 9s 52ms/step - loss: 0.5108 - accuracy: 0.7920 - val_loss: 0.5512 - val_accuracy: 0.7766 - lr: 0.0010\n",
            "Epoch 5/10\n",
            "165/165 [==============================] - 7s 44ms/step - loss: 0.4730 - accuracy: 0.8100 - val_loss: 0.5508 - val_accuracy: 0.7785 - lr: 0.0010\n",
            "Epoch 6/10\n",
            "165/165 [==============================] - 9s 52ms/step - loss: 0.4423 - accuracy: 0.8192 - val_loss: 0.5494 - val_accuracy: 0.7712 - lr: 0.0010\n",
            "Epoch 7/10\n",
            "165/165 [==============================] - 9s 52ms/step - loss: 0.4046 - accuracy: 0.8377 - val_loss: 0.6243 - val_accuracy: 0.7291 - lr: 0.0010\n",
            "Epoch 8/10\n",
            "165/165 [==============================] - 7s 44ms/step - loss: 0.3799 - accuracy: 0.8469 - val_loss: 0.5637 - val_accuracy: 0.7773 - lr: 0.0010\n",
            "Epoch 9/10\n",
            "165/165 [==============================] - ETA: 0s - loss: 0.3541 - accuracy: 0.8623\n",
            "Epoch 9: ReduceLROnPlateau reducing learning rate to 0.00010000000474974513.\n",
            "165/165 [==============================] - 8s 52ms/step - loss: 0.3541 - accuracy: 0.8623 - val_loss: 0.5926 - val_accuracy: 0.7621 - lr: 0.0010\n",
            "Epoch 10/10\n",
            "165/165 [==============================] - 9s 52ms/step - loss: 0.2985 - accuracy: 0.8819 - val_loss: 0.5672 - val_accuracy: 0.7758 - lr: 1.0000e-04\n",
            "46/46 [==============================] - 0s 9ms/step - loss: 0.6005 - accuracy: 0.7705\n"
          ]
        },
        {
          "output_type": "execute_result",
          "data": {
            "text/plain": [
              "[0.6005133390426636, 0.7704917788505554]"
            ]
          },
          "metadata": {},
          "execution_count": 46
        }
      ]
    },
    {
      "cell_type": "code",
      "source": [],
      "metadata": {
        "id": "MMO14YQmIEcX"
      },
      "execution_count": null,
      "outputs": []
    }
  ]
}